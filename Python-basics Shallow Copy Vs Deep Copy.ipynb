{
 "cells": [
  {
   "cell_type": "code",
   "execution_count": 1,
   "id": "05e7cdbc",
   "metadata": {},
   "outputs": [],
   "source": [
    "## = , copy(), deepcopy()"
   ]
  },
  {
   "cell_type": "code",
   "execution_count": 2,
   "id": "706b4e20",
   "metadata": {},
   "outputs": [],
   "source": [
    "     ## = mean same memmory location\n",
    "list1 = [1,2,3,4]\n",
    "list2 = list1"
   ]
  },
  {
   "cell_type": "code",
   "execution_count": 3,
   "id": "c5ac589d",
   "metadata": {},
   "outputs": [
    {
     "data": {
      "text/plain": [
       "([1, 2, 3, 4], [1, 2, 3, 4])"
      ]
     },
     "execution_count": 3,
     "metadata": {},
     "output_type": "execute_result"
    }
   ],
   "source": [
    "list1, list2"
   ]
  },
  {
   "cell_type": "code",
   "execution_count": 4,
   "id": "c428377f",
   "metadata": {},
   "outputs": [],
   "source": [
    "list2[1] = 100"
   ]
  },
  {
   "cell_type": "code",
   "execution_count": 5,
   "id": "3fe14287",
   "metadata": {},
   "outputs": [
    {
     "name": "stdout",
     "output_type": "stream",
     "text": [
      "2319065463680\n"
     ]
    }
   ],
   "source": [
    "print(id(list2))"
   ]
  },
  {
   "cell_type": "code",
   "execution_count": 6,
   "id": "82c41dff",
   "metadata": {},
   "outputs": [
    {
     "name": "stdout",
     "output_type": "stream",
     "text": [
      "2319065463680\n"
     ]
    }
   ],
   "source": [
    "print(id(list1))"
   ]
  },
  {
   "cell_type": "code",
   "execution_count": 7,
   "id": "21292c0c",
   "metadata": {},
   "outputs": [
    {
     "name": "stdout",
     "output_type": "stream",
     "text": [
      "[[1, 2, 3], [4, 5, 6], [7, 8, 9]]\n",
      "2319065475520\n",
      "New List: [[1, 2, 3], [4, 5, 6], [7, 8, 9]]\n",
      "ID of New List: 2319065475520\n"
     ]
    }
   ],
   "source": [
    "old_list = [[1, 2, 3], [4, 5, 6], [7, 8, 'a']]\n",
    "new_list = old_list\n",
    "\n",
    "new_list[2][2] = 9\n",
    "\n",
    "print(old_list)\n",
    "print(id(old_list))\n",
    "\n",
    "print('New List:', new_list)\n",
    "print('ID of New List:', id(new_list))"
   ]
  },
  {
   "cell_type": "code",
   "execution_count": 8,
   "id": "bbb72179",
   "metadata": {},
   "outputs": [],
   "source": [
    "## copy\n",
    "## shallow copy\n",
    "list1 = [1,2,3,4]\n",
    "list2 = list1.copy() ## make a different memmory location"
   ]
  },
  {
   "cell_type": "code",
   "execution_count": 9,
   "id": "c61d3b64",
   "metadata": {},
   "outputs": [],
   "source": [
    "#list2[1] = 100"
   ]
  },
  {
   "cell_type": "code",
   "execution_count": 10,
   "id": "e5b018d2",
   "metadata": {},
   "outputs": [
    {
     "data": {
      "text/plain": [
       "[1, 2, 3, 4]"
      ]
     },
     "execution_count": 10,
     "metadata": {},
     "output_type": "execute_result"
    }
   ],
   "source": [
    "list2"
   ]
  },
  {
   "cell_type": "code",
   "execution_count": 11,
   "id": "1d7c7ac3",
   "metadata": {},
   "outputs": [
    {
     "data": {
      "text/plain": [
       "[1, 2, 3, 4]"
      ]
     },
     "execution_count": 11,
     "metadata": {},
     "output_type": "execute_result"
    }
   ],
   "source": [
    "list1"
   ]
  },
  {
   "cell_type": "code",
   "execution_count": 12,
   "id": "ad6ba32f",
   "metadata": {},
   "outputs": [
    {
     "name": "stdout",
     "output_type": "stream",
     "text": [
      "2319065469696\n",
      "2319065470144\n"
     ]
    }
   ],
   "source": [
    "print(id(list1))\n",
    "print(id(list2))"
   ]
  },
  {
   "cell_type": "code",
   "execution_count": 13,
   "id": "c8b6f393",
   "metadata": {},
   "outputs": [],
   "source": [
    "## Shallow copy nested list"
   ]
  },
  {
   "cell_type": "code",
   "execution_count": 14,
   "id": "fca840d9",
   "metadata": {},
   "outputs": [],
   "source": [
    "list1 = [[1,2,3,4],[3,43,5,6]]\n",
    "list2 = list1.copy()"
   ]
  },
  {
   "cell_type": "code",
   "execution_count": 15,
   "id": "ec63537c",
   "metadata": {},
   "outputs": [
    {
     "data": {
      "text/plain": [
       "[[1, 2, 3, 4], [3, 43, 5, 6]]"
      ]
     },
     "execution_count": 15,
     "metadata": {},
     "output_type": "execute_result"
    }
   ],
   "source": [
    "list1"
   ]
  },
  {
   "cell_type": "code",
   "execution_count": 16,
   "id": "4c86774c",
   "metadata": {},
   "outputs": [
    {
     "data": {
      "text/plain": [
       "[[1, 2, 3, 4], [3, 43, 5, 6]]"
      ]
     },
     "execution_count": 16,
     "metadata": {},
     "output_type": "execute_result"
    }
   ],
   "source": [
    "list2"
   ]
  },
  {
   "cell_type": "code",
   "execution_count": 17,
   "id": "04a63894",
   "metadata": {},
   "outputs": [],
   "source": [
    "list1[1][0] = 100"
   ]
  },
  {
   "cell_type": "code",
   "execution_count": 18,
   "id": "6d110145",
   "metadata": {},
   "outputs": [
    {
     "data": {
      "text/plain": [
       "[[1, 2, 3, 4], [100, 43, 5, 6]]"
      ]
     },
     "execution_count": 18,
     "metadata": {},
     "output_type": "execute_result"
    }
   ],
   "source": [
    "list1"
   ]
  },
  {
   "cell_type": "code",
   "execution_count": 19,
   "id": "b3f1f04e",
   "metadata": {},
   "outputs": [
    {
     "data": {
      "text/plain": [
       "[[1, 2, 3, 4], [100, 43, 5, 6]]"
      ]
     },
     "execution_count": 19,
     "metadata": {},
     "output_type": "execute_result"
    }
   ],
   "source": [
    "list2"
   ]
  },
  {
   "cell_type": "code",
   "execution_count": 20,
   "id": "a40eb178",
   "metadata": {},
   "outputs": [
    {
     "name": "stdout",
     "output_type": "stream",
     "text": [
      "2319065151552\n",
      "2319065406976\n"
     ]
    }
   ],
   "source": [
    "print(id(list1))\n",
    "print(id(list2))"
   ]
  },
  {
   "cell_type": "code",
   "execution_count": 21,
   "id": "92540ad7",
   "metadata": {},
   "outputs": [
    {
     "name": "stdout",
     "output_type": "stream",
     "text": [
      "Old list: 2319065475648\n",
      "New list: 2319065404864\n"
     ]
    }
   ],
   "source": [
    "## deep copy\n",
    "import copy\n",
    "\n",
    "old_list = [[1, 2, 3], [4, 5, 6], [7, 8, 9]]\n",
    "new_list = copy.deepcopy(old_list)\n",
    "\n",
    "print(\"Old list:\", id(old_list))\n",
    "print(\"New list:\", id(new_list))"
   ]
  },
  {
   "cell_type": "code",
   "execution_count": 22,
   "id": "9fc219b0",
   "metadata": {},
   "outputs": [
    {
     "name": "stdout",
     "output_type": "stream",
     "text": [
      "Old list: [[1, 2, 3], [4, 5, 6], [7, 8, 100]]\n",
      "New list: [[1, 2, 3], [4, 5, 6], [7, 8, 100]]\n",
      "Old list: 2319065475584\n",
      "New list: 2319065475776\n"
     ]
    }
   ],
   "source": [
    "import copy\n",
    "\n",
    "old_list = [[1, 2, 3], [4, 5, 6], [7, 8, 9]]\n",
    "new_list = copy.copy(old_list)\n",
    "new_list[2][2] = 100\n",
    "print(\"Old list:\", old_list)\n",
    "print(\"New list:\", new_list)\n",
    "print(\"Old list:\", id(old_list))\n",
    "print(\"New list:\", id(new_list))"
   ]
  },
  {
   "cell_type": "code",
   "execution_count": null,
   "id": "adbbbdae",
   "metadata": {},
   "outputs": [],
   "source": []
  }
 ],
 "metadata": {
  "kernelspec": {
   "display_name": "Python 3 (ipykernel)",
   "language": "python",
   "name": "python3"
  },
  "language_info": {
   "codemirror_mode": {
    "name": "ipython",
    "version": 3
   },
   "file_extension": ".py",
   "mimetype": "text/x-python",
   "name": "python",
   "nbconvert_exporter": "python",
   "pygments_lexer": "ipython3",
   "version": "3.9.12"
  }
 },
 "nbformat": 4,
 "nbformat_minor": 5
}
