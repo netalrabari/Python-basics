{
 "cells": [
  {
   "cell_type": "code",
   "execution_count": 1,
   "id": "665494fd",
   "metadata": {},
   "outputs": [
    {
     "name": "stdout",
     "output_type": "stream",
     "text": [
      "Hello, my name is Netal\n"
     ]
    }
   ],
   "source": [
    "# A Sample class with init method\n",
    "class Person:\n",
    " \n",
    "    # init method or constructor\n",
    "    def __init__(self, name):\n",
    "        self.name = name\n",
    " \n",
    "    # Sample Method\n",
    "    def say_hi(self):\n",
    "        print('Hello, my name is', self.name)\n",
    " \n",
    " \n",
    "p = Person('Netal')\n",
    "p.say_hi()"
   ]
  },
  {
   "cell_type": "code",
   "execution_count": 2,
   "id": "cc666e30",
   "metadata": {},
   "outputs": [
    {
     "name": "stdout",
     "output_type": "stream",
     "text": [
      "my name is netal\n"
     ]
    }
   ],
   "source": [
    "print(\"my name is netal\")"
   ]
  },
  {
   "cell_type": "code",
   "execution_count": 3,
   "id": "431225ac",
   "metadata": {},
   "outputs": [],
   "source": [
    "class person:\n",
    "    def __init__(self, name,age, gender, nationality):\n",
    "        self.name = name\n",
    "        self.age = age\n",
    "        self.gender = gender\n",
    "        self.nationality = nationality\n",
    "    def wish(self):\n",
    "        print(\"my name is \", self.name)\n",
    "        print(\"my name is \", self.age)\n",
    "        print(\"I am  \", self.gender)\n",
    "        print(\"I am an\", self.nationality)"
   ]
  },
  {
   "cell_type": "code",
   "execution_count": 4,
   "id": "8718d386",
   "metadata": {},
   "outputs": [
    {
     "name": "stdout",
     "output_type": "stream",
     "text": [
      "my name is  ankur\n",
      "my name is  20\n",
      "I am   male\n",
      "I am an Indian\n"
     ]
    }
   ],
   "source": [
    "p1 = person(\"ankur\", 20, \"male\", \"Indian\")\n",
    "p1.wish()"
   ]
  },
  {
   "cell_type": "code",
   "execution_count": 5,
   "id": "8d4e112f",
   "metadata": {},
   "outputs": [
    {
     "name": "stdout",
     "output_type": "stream",
     "text": [
      "Enter first number: 6\n",
      "Enter second number: 7\n",
      "13\n",
      "42\n",
      "0.8571428571428571\n",
      "-1\n"
     ]
    }
   ],
   "source": [
    "# Simple calculator using class\n",
    "class cal():\n",
    "    \"\"\"This is a simple calculation using class and function for two variable\"\"\"\n",
    "    def __init__(self,a,b):\n",
    "        self.a=a\n",
    "        self.b=b\n",
    "    def add(self):\n",
    "        return self.a+self.b\n",
    "    def mul(self):\n",
    "        return self.a*self.b\n",
    "    def div(self):\n",
    "        return self.a/self.b\n",
    "    def sub(self):\n",
    "        return self.a-self.b\n",
    "a=int(input(\"Enter first number: \"))\n",
    "b=int(input(\"Enter second number: \"))\n",
    "num = cal(a,b)\n",
    "#num = cal(4,8)\n",
    "print(num.add())\n",
    "print(num.mul())\n",
    "print(num.div())\n",
    "print(num.sub())"
   ]
  },
  {
   "cell_type": "code",
   "execution_count": 6,
   "id": "9a5b74ae",
   "metadata": {},
   "outputs": [
    {
     "name": "stdout",
     "output_type": "stream",
     "text": [
      "This is negative number\n"
     ]
    }
   ],
   "source": [
    "# Number is positive or negative using class\n",
    "class num():\n",
    "    \"\"\"This is a program to find out the number is negative of positive\"\"\"\n",
    "\n",
    "    def __init__(self,a):\n",
    "        self.a=a\n",
    "    def num_p(self):\n",
    "        try:\n",
    "            if self.a >= 0:\n",
    "                print(\"This is positive number\")\n",
    "            else:\n",
    "                print(\"This is negative number\")\n",
    "        except Exception as e:\n",
    "            print(e)\n",
    "            num1 = int(input(\"Enter the number : \"))\n",
    "num1 = num(-8)\n",
    "num1.num_p()"
   ]
  },
  {
   "cell_type": "code",
   "execution_count": 7,
   "id": "2cb6a103",
   "metadata": {},
   "outputs": [
    {
     "name": "stdout",
     "output_type": "stream",
     "text": [
      "Enter Weight of the Person (Kg) : 25\n",
      "Enter Height of the Person (Meters): 5\n",
      "1.0\n"
     ]
    }
   ],
   "source": [
    "# BMI calculation using Class \n",
    "class BMI():\n",
    "    \"\"\" This is a program for to calculate body mass index for person\"\"\"\n",
    "    def __init__(self,w,h):\n",
    "        self.w = w\n",
    "        self.h = h\n",
    "    def bmi_cal(self):\n",
    "        try:\n",
    "            bmi = self.w / ((self.h) * (self.h))\n",
    "            print(bmi)\n",
    "        except Exception as e:\n",
    "            print(e)\n",
    "try:\n",
    "    w=float(input(\"Enter Weight of the Person (Kg) : \"))\n",
    "    h=float(input(\"Enter Height of the Person (Meters): \"))\n",
    "    obj=BMI(w,h)\n",
    "    obj.bmi_cal()\n",
    "\n",
    "except:\n",
    "    print(\"Error in  our program\")"
   ]
  },
  {
   "cell_type": "code",
   "execution_count": 8,
   "id": "9465af31",
   "metadata": {},
   "outputs": [
    {
     "name": "stdout",
     "output_type": "stream",
     "text": [
      "After Converting Dictionary to Class : \n",
      "Geeks 1223 Python\n",
      "<class '__main__.Dict2Class'>\n"
     ]
    }
   ],
   "source": [
    "# Turns a dictionary into a class\n",
    "class Dict2Class(object):\n",
    "      \n",
    "    def __init__(self, my_dict):\n",
    "          \n",
    "        for key in my_dict:\n",
    "            setattr(self, key, my_dict[key])\n",
    "  \n",
    "# Driver Code\n",
    "if __name__ == \"__main__\":\n",
    "      \n",
    "    # Creating the dictionary\n",
    "    my_dict = {\"Name\": \"Geeks\",\n",
    "               \"Rank\": \"1223\",\n",
    "               \"Subject\": \"Python\"}\n",
    "      \n",
    "    result = Dict2Class(my_dict)\n",
    "      \n",
    "    # printing the result\n",
    "    print(\"After Converting Dictionary to Class : \")\n",
    "    print(result.Name, result.Rank, result.Subject)\n",
    "    print(type(result))"
   ]
  },
  {
   "cell_type": "code",
   "execution_count": 9,
   "id": "cb7e44ed",
   "metadata": {},
   "outputs": [
    {
     "name": "stdout",
     "output_type": "stream",
     "text": [
      "Enter first number: 2\n",
      "Enter second number: 4\n",
      "0. Exit\n",
      "1. Add\n",
      "2. Subtraction\n",
      "3. Multiplication\n",
      "4. Division\n",
      "Enter choice: 1\n",
      "Result:  6\n",
      "0. Exit\n",
      "1. Add\n",
      "2. Subtraction\n",
      "3. Multiplication\n",
      "4. Division\n",
      "Enter choice: 0\n",
      "Exiting!\n",
      "\n"
     ]
    }
   ],
   "source": [
    "class cal():\n",
    "    def __init__(self,a,b):\n",
    "        self.a=a\n",
    "        self.b=b\n",
    "    def add(self):\n",
    "        return self.a+self.b\n",
    "    def mul(self):\n",
    "        return self.a*self.b\n",
    "    def div(self):\n",
    "        return self.a/self.b\n",
    "    def sub(self):\n",
    "        return self.a-self.b\n",
    "a=int(input(\"Enter first number: \"))\n",
    "b=int(input(\"Enter second number: \"))\n",
    "obj=cal(a,b)\n",
    "choice=1\n",
    "while choice!=0:\n",
    "    print(\"0. Exit\")\n",
    "    print(\"1. Add\")\n",
    "    print(\"2. Subtraction\")\n",
    "    print(\"3. Multiplication\")\n",
    "    print(\"4. Division\")\n",
    "    choice=int(input(\"Enter choice: \"))\n",
    "    if choice==1:\n",
    "        print(\"Result: \",obj.add())\n",
    "    elif choice==2:\n",
    "        print(\"Result: \",obj.sub())\n",
    "    elif choice==3:\n",
    "        print(\"Result: \",obj.mul())\n",
    "    elif choice==4:\n",
    "        print(\"Result: \",round(obj.div(),2))\n",
    "    elif choice==0:\n",
    "        print(\"Exiting!\")\n",
    "    else:\n",
    "        print(\"Invalid choice!!\")\n",
    "print()"
   ]
  },
  {
   "cell_type": "code",
   "execution_count": null,
   "id": "f1d3f7f6",
   "metadata": {},
   "outputs": [],
   "source": []
  }
 ],
 "metadata": {
  "kernelspec": {
   "display_name": "Python 3 (ipykernel)",
   "language": "python",
   "name": "python3"
  },
  "language_info": {
   "codemirror_mode": {
    "name": "ipython",
    "version": 3
   },
   "file_extension": ".py",
   "mimetype": "text/x-python",
   "name": "python",
   "nbconvert_exporter": "python",
   "pygments_lexer": "ipython3",
   "version": "3.9.12"
  }
 },
 "nbformat": 4,
 "nbformat_minor": 5
}
