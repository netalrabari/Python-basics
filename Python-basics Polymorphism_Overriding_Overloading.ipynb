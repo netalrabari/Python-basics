{
 "cells": [
  {
   "cell_type": "markdown",
   "id": "377fc6e7",
   "metadata": {},
   "source": [
    "# Polymorphism"
   ]
  },
  {
   "cell_type": "code",
   "execution_count": 5,
   "id": "ad79cd47",
   "metadata": {},
   "outputs": [],
   "source": [
    "def test(a,b):\n",
    "    return a+b"
   ]
  },
  {
   "cell_type": "code",
   "execution_count": 6,
   "id": "76f6f109",
   "metadata": {},
   "outputs": [
    {
     "data": {
      "text/plain": [
       "7"
      ]
     },
     "execution_count": 6,
     "metadata": {},
     "output_type": "execute_result"
    }
   ],
   "source": [
    "       # addition\n",
    "    \n",
    "test(3,4)"
   ]
  },
  {
   "cell_type": "code",
   "execution_count": 7,
   "id": "a6fc6aad",
   "metadata": {},
   "outputs": [
    {
     "data": {
      "text/plain": [
       "'NetalRabari'"
      ]
     },
     "execution_count": 7,
     "metadata": {},
     "output_type": "execute_result"
    }
   ],
   "source": [
    "      # concat\n",
    "    \n",
    "test(\"Netal\",\"Rabari\")"
   ]
  },
  {
   "cell_type": "code",
   "execution_count": 8,
   "id": "eb169053",
   "metadata": {},
   "outputs": [
    {
     "name": "stdout",
     "output_type": "stream",
     "text": [
      "5\n",
      "3\n"
     ]
    }
   ],
   "source": [
    "# len() being used for a string\n",
    "\n",
    "print(len(\"Netal\"))\n",
    " \n",
    "# len() being used for a list\n",
    "\n",
    "print(len([1, 2, 3]))"
   ]
  },
  {
   "cell_type": "code",
   "execution_count": 9,
   "id": "61bec553",
   "metadata": {},
   "outputs": [
    {
     "name": "stdout",
     "output_type": "stream",
     "text": [
      "3\n",
      "4\n",
      "2\n"
     ]
    }
   ],
   "source": [
    "print(len(\"Bit\"))\n",
    "print(len([\"Python\", \"Java\", \"C\", \"C++\"]))\n",
    "print(len({\"Name\": \"Netal\", \"Address\": \"India\"}))"
   ]
  },
  {
   "cell_type": "code",
   "execution_count": 10,
   "id": "524cfb0a",
   "metadata": {},
   "outputs": [],
   "source": [
    "class insta:\n",
    "    def share_stories(self):\n",
    "        print(\"This will share my insta story\")\n",
    "        \n",
    "class facebook:\n",
    "    def share_stories(self):\n",
    "        print(\"This will share my facebook story\")"
   ]
  },
  {
   "cell_type": "code",
   "execution_count": 11,
   "id": "d6e7d524",
   "metadata": {},
   "outputs": [],
   "source": [
    "def sharestory (app):\n",
    "    app.share_stories()"
   ]
  },
  {
   "cell_type": "code",
   "execution_count": 12,
   "id": "6ac054fc",
   "metadata": {},
   "outputs": [
    {
     "name": "stdout",
     "output_type": "stream",
     "text": [
      "This will share my insta story\n",
      "This will share my facebook story\n"
     ]
    }
   ],
   "source": [
    "i = insta()\n",
    "f = facebook()\n",
    "sharestory(i)\n",
    "sharestory(f)"
   ]
  },
  {
   "cell_type": "code",
   "execution_count": 13,
   "id": "2a890fd7",
   "metadata": {},
   "outputs": [
    {
     "name": "stdout",
     "output_type": "stream",
     "text": [
      "New Delhi is the capital of India.\n",
      "Hindi is the most widely spoken language of India.\n",
      "India is a developing country.\n",
      "Washington, D.C. is the capital of USA.\n",
      "English is the primary language of USA.\n",
      "USA is a developed country.\n"
     ]
    }
   ],
   "source": [
    "#Polymorphism with class method\n",
    "class India():\n",
    "    def capital(self):\n",
    "        print(\"New Delhi is the capital of India.\")\n",
    " \n",
    "    def language(self):\n",
    "        print(\"Hindi is the most widely spoken language of India.\")\n",
    " \n",
    "    def type(self):\n",
    "        print(\"India is a developing country.\")\n",
    " \n",
    "class USA():\n",
    "    def capital(self):\n",
    "        print(\"Washington, D.C. is the capital of USA.\")\n",
    " \n",
    "    def language(self):\n",
    "        print(\"English is the primary language of USA.\")\n",
    " \n",
    "    def type(self):\n",
    "        print(\"USA is a developed country.\")\n",
    " \n",
    "obj_ind = India()\n",
    "obj_usa = USA()\n",
    "\n",
    "for i in (obj_ind, obj_usa):\n",
    "    i.capital()\n",
    "    i.language()\n",
    "    i.type()"
   ]
  },
  {
   "cell_type": "code",
   "execution_count": 14,
   "id": "196f12cb",
   "metadata": {},
   "outputs": [],
   "source": [
    "class test(Exception):\n",
    "    def __init__(self , msg  , myval) :\n",
    "        self.msg = msg\n",
    "        self.myval =myval"
   ]
  },
  {
   "cell_type": "code",
   "execution_count": 15,
   "id": "94e45345",
   "metadata": {},
   "outputs": [
    {
     "name": "stdout",
     "output_type": "stream",
     "text": [
      "('this is my own exception class ', 'bit')\n"
     ]
    }
   ],
   "source": [
    "try :\n",
    "    raise(test(\"this is my own exception class \" , \"bit\"))\n",
    "except test as t :\n",
    "    print(t)"
   ]
  },
  {
   "cell_type": "code",
   "execution_count": 16,
   "id": "11a4e35f",
   "metadata": {},
   "outputs": [
    {
     "name": "stdout",
     "output_type": "stream",
     "text": [
      "('this is my own exception class ', 5)\n"
     ]
    }
   ],
   "source": [
    "try :\n",
    "    raise(test(\"this is my own exception class \",5))\n",
    "except test as t :\n",
    "    print(t)"
   ]
  },
  {
   "cell_type": "markdown",
   "id": "ecbe7f77",
   "metadata": {},
   "source": [
    "# Method Overriding"
   ]
  },
  {
   "cell_type": "code",
   "execution_count": 17,
   "id": "a1a19d45",
   "metadata": {},
   "outputs": [
    {
     "name": "stdout",
     "output_type": "stream",
     "text": [
      "Hello world\n",
      "Good morning\n"
     ]
    }
   ],
   "source": [
    "# Method Overriding (Function define with same name for different arguments)\n",
    "\n",
    "class xyz:\n",
    "    def test(self):\n",
    "        print(\"Hi \")\n",
    "        \n",
    "    def test2(self):\n",
    "        print(\"My name is netal\")\n",
    "        \n",
    "class xyz1(xyz):\n",
    "    def test(self):\n",
    "        print(\"Hello world\")\n",
    "        \n",
    "    def test2(self):\n",
    "        print(\"Good morning\")\n",
    "        \n",
    "obj = xyz1()\n",
    "\n",
    "obj.test()\n",
    "obj.test2()"
   ]
  },
  {
   "cell_type": "code",
   "execution_count": 18,
   "id": "cdf14358",
   "metadata": {},
   "outputs": [
    {
     "name": "stdout",
     "output_type": "stream",
     "text": [
      "Circle\n",
      "Dimention Shape\n",
      "Squares have 4 angle\n",
      "153.93804002589985\n"
     ]
    }
   ],
   "source": [
    "from math import pi\n",
    "\n",
    "\n",
    "class Shape:\n",
    "    def __init__(self, name):\n",
    "        self.name = name\n",
    "\n",
    "    def area(self):\n",
    "        pass\n",
    "\n",
    "    def fact(self):\n",
    "        return \"Dimention Shape\"\n",
    "\n",
    "    def __str__(self):\n",
    "        return self.name\n",
    "\n",
    "\n",
    "class Square(Shape):\n",
    "    def __init__(self, length):\n",
    "        super().__init__(\"Square\")\n",
    "        self.length = length\n",
    "\n",
    "    def area(self):\n",
    "        return self.length**2\n",
    "\n",
    "    def fact(self):\n",
    "        return \"Squares have 4 angle\"\n",
    "    \n",
    "class Circle(Shape):\n",
    "    def __init__(self, radius):\n",
    "        super().__init__(\"Circle\")\n",
    "        self.radius = radius\n",
    "\n",
    "    def area(self):\n",
    "        return pi*self.radius**2\n",
    "\n",
    "\n",
    "a = Square(4)\n",
    "b = Circle(7)\n",
    "print(b)\n",
    "print(b.fact())\n",
    "print(a.fact())\n",
    "print(b.area())"
   ]
  },
  {
   "cell_type": "markdown",
   "id": "edb26140",
   "metadata": {},
   "source": [
    "# Method Overloading"
   ]
  },
  {
   "cell_type": "code",
   "execution_count": 19,
   "id": "0540b857",
   "metadata": {},
   "outputs": [
    {
     "name": "stdout",
     "output_type": "stream",
     "text": [
      "3\n",
      "BIT For\n",
      "12\n",
      "BITBITBITBIT\n"
     ]
    }
   ],
   "source": [
    "print(1 + 2)\n",
    "  \n",
    "# concatenate two strings\n",
    "print(\"BIT\"+ \" \" +\"For\") \n",
    "  \n",
    "# Product two numbers\n",
    "print(3 * 4)\n",
    "  \n",
    "# Repeat the String\n",
    "print(\"BIT\"*4)"
   ]
  },
  {
   "cell_type": "code",
   "execution_count": 20,
   "id": "3925223b",
   "metadata": {},
   "outputs": [
    {
     "name": "stdout",
     "output_type": "stream",
     "text": [
      "3\n",
      "netalDn\n"
     ]
    }
   ],
   "source": [
    "class A:\n",
    "    def __init__(self, a):\n",
    "        self.a = a\n",
    "  \n",
    "    # adding two objects \n",
    "    def __add__(self, b):\n",
    "        return self.a + b.a \n",
    "\n",
    "ob1 = A(1)\n",
    "ob2 = A(2)\n",
    "ob3 = A(\"netal\")\n",
    "ob4 = A(\"Dn\")\n",
    "  \n",
    "print(ob1 + ob2)\n",
    "print(ob3 + ob4)"
   ]
  },
  {
   "cell_type": "code",
   "execution_count": 21,
   "id": "0d79d520",
   "metadata": {},
   "outputs": [
    {
     "name": "stdout",
     "output_type": "stream",
     "text": [
      "(3, 5)\n"
     ]
    }
   ],
   "source": [
    "class complex:\n",
    "    def __init__(self, a, b):\n",
    "        self.a = a\n",
    "        self.b = b\n",
    "  \n",
    "     # adding two objects \n",
    "    def __add__(self, other):\n",
    "        return self.a + other.a, self.b + other.b\n",
    "  \n",
    "Ob1 = complex(1, 2)\n",
    "Ob2 = complex(2, 3)\n",
    "Ob3 = Ob1 + Ob2\n",
    "print(Ob3)"
   ]
  },
  {
   "cell_type": "code",
   "execution_count": 22,
   "id": "1c2b4e8f",
   "metadata": {},
   "outputs": [
    {
     "name": "stdout",
     "output_type": "stream",
     "text": [
      "ob2 is greater than ob1\n"
     ]
    }
   ],
   "source": [
    "class A:\n",
    "    def __init__(self, a):\n",
    "        self.a = a\n",
    "    def __gt__(self, other):\n",
    "        if(self.a>other.a):\n",
    "            return True\n",
    "        else:\n",
    "            return False\n",
    "ob1 = A(2)\n",
    "ob2 = A(3)\n",
    "if(ob1>ob2):\n",
    "    print(\"ob1 is greater than ob2\")\n",
    "else:\n",
    "    print(\"ob2 is greater than ob1\")"
   ]
  },
  {
   "cell_type": "code",
   "execution_count": null,
   "id": "14fbd5df",
   "metadata": {},
   "outputs": [],
   "source": []
  }
 ],
 "metadata": {
  "kernelspec": {
   "display_name": "Python 3 (ipykernel)",
   "language": "python",
   "name": "python3"
  },
  "language_info": {
   "codemirror_mode": {
    "name": "ipython",
    "version": 3
   },
   "file_extension": ".py",
   "mimetype": "text/x-python",
   "name": "python",
   "nbconvert_exporter": "python",
   "pygments_lexer": "ipython3",
   "version": "3.9.12"
  }
 },
 "nbformat": 4,
 "nbformat_minor": 5
}
