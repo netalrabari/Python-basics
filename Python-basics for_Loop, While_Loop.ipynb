{
 "cells": [
  {
   "cell_type": "code",
   "execution_count": 1,
   "id": "7671c276",
   "metadata": {},
   "outputs": [
    {
     "name": "stdout",
     "output_type": "stream",
     "text": [
      "graps\n",
      "graps\n",
      "graps\n"
     ]
    }
   ],
   "source": [
    "l = [\"graps\", \"orange\", \"mango\"]\n",
    "for i in l:\n",
    "  print(l[0])"
   ]
  },
  {
   "cell_type": "code",
   "execution_count": 2,
   "id": "9f89c94b",
   "metadata": {},
   "outputs": [
    {
     "name": "stdout",
     "output_type": "stream",
     "text": [
      "b\n",
      "a\n",
      "n\n",
      "a\n",
      "n\n",
      "a\n"
     ]
    }
   ],
   "source": [
    "for x in \"banana\":\n",
    "  print(x)"
   ]
  },
  {
   "cell_type": "code",
   "execution_count": 3,
   "id": "f3fc76de",
   "metadata": {},
   "outputs": [],
   "source": [
    "fruits = [\"graps\", \"orange\", \"mango\"]\n",
    "for x in fruits:\n",
    "  if x != \"mango\":\n",
    "    break\n",
    "  print(x)"
   ]
  },
  {
   "cell_type": "code",
   "execution_count": 4,
   "id": "4afb54b3",
   "metadata": {},
   "outputs": [
    {
     "name": "stdout",
     "output_type": "stream",
     "text": [
      "graps\n",
      "orange\n"
     ]
    }
   ],
   "source": [
    "fruits = [\"graps\", \"orange\", \"mango\"]\n",
    "for x in fruits:\n",
    "  if x == \"mango\":\n",
    "    break\n",
    "  print(x)"
   ]
  },
  {
   "cell_type": "code",
   "execution_count": 5,
   "id": "b219f38e",
   "metadata": {},
   "outputs": [
    {
     "name": "stdout",
     "output_type": "stream",
     "text": [
      "apple\n",
      "cherry\n"
     ]
    }
   ],
   "source": [
    "fruits = [\"apple\", \"banana\", \"cherry\"]\n",
    "for x in fruits:\n",
    "  if x == \"banana\":\n",
    "    continue\n",
    "  print(x)"
   ]
  },
  {
   "cell_type": "code",
   "execution_count": 6,
   "id": "810c7c3b",
   "metadata": {},
   "outputs": [
    {
     "name": "stdout",
     "output_type": "stream",
     "text": [
      "0\n",
      "4\n",
      "8\n",
      "12\n",
      "16\n"
     ]
    }
   ],
   "source": [
    "for i in range(0,20,4):\n",
    "  print(i)"
   ]
  },
  {
   "cell_type": "code",
   "execution_count": 7,
   "id": "1269eadb",
   "metadata": {},
   "outputs": [
    {
     "name": "stdout",
     "output_type": "stream",
     "text": [
      "l\n",
      "a\n",
      "t\n",
      "e\n",
      "n\n"
     ]
    }
   ],
   "source": [
    "a = \"netal\"\n",
    "for i in a[::-1]:\n",
    "  print(i)"
   ]
  },
  {
   "cell_type": "code",
   "execution_count": 9,
   "id": "cc45a482",
   "metadata": {},
   "outputs": [
    {
     "name": "stdout",
     "output_type": "stream",
     "text": [
      "6\n",
      "5\n",
      "4\n",
      "3\n"
     ]
    }
   ],
   "source": [
    "l = [3,4,5,6]\n",
    "for i in l[::-1]:\n",
    "  print(i)"
   ]
  },
  {
   "cell_type": "code",
   "execution_count": 10,
   "id": "f7471771",
   "metadata": {},
   "outputs": [
    {
     "data": {
      "text/plain": [
       "'uhsnarp'"
      ]
     },
     "execution_count": 10,
     "metadata": {},
     "output_type": "execute_result"
    }
   ],
   "source": [
    "a = \"pranshu\"\n",
    "a[::-1]"
   ]
  },
  {
   "cell_type": "code",
   "execution_count": 11,
   "id": "e9cc49e1",
   "metadata": {},
   "outputs": [
    {
     "name": "stdout",
     "output_type": "stream",
     "text": [
      "u\n",
      "h\n",
      "s\n",
      "n\n",
      "a\n",
      "r\n",
      "p\n"
     ]
    }
   ],
   "source": [
    "a= \"pranshu\"\n",
    "for i in a[::-1]:\n",
    "  print(i)"
   ]
  },
  {
   "cell_type": "code",
   "execution_count": 12,
   "id": "c40ea43f",
   "metadata": {},
   "outputs": [
    {
     "name": "stdout",
     "output_type": "stream",
     "text": [
      "1\n",
      "2\n",
      "3\n",
      "4\n",
      "5\n"
     ]
    }
   ],
   "source": [
    "for x in range(1,6):\n",
    "  print(x)"
   ]
  },
  {
   "cell_type": "code",
   "execution_count": 13,
   "id": "abf5883a",
   "metadata": {},
   "outputs": [
    {
     "data": {
      "text/plain": [
       "dict_values(['Rinku', 'Payal', 'Neeta', 'Homal', 'Ila', 'mkljhgf'])"
      ]
     },
     "execution_count": 13,
     "metadata": {},
     "output_type": "execute_result"
    }
   ],
   "source": [
    "dict1 = { 1 : \"Rinku\", 2: \"Payal\", 3:\"Neeta\", 4:\"Homal\", 5: \"Ila\", \"njn\":\"mkljhgf\"}\n",
    "dict1.keys()\n",
    "dict1.values()"
   ]
  },
  {
   "cell_type": "code",
   "execution_count": 14,
   "id": "049cc5cf",
   "metadata": {},
   "outputs": [
    {
     "name": "stdout",
     "output_type": "stream",
     "text": [
      "1\n",
      "2\n",
      "3\n",
      "4\n",
      "5\n",
      "njn\n"
     ]
    }
   ],
   "source": [
    "for i in dict1.keys():\n",
    "  print(i)"
   ]
  },
  {
   "cell_type": "code",
   "execution_count": 15,
   "id": "8ade8ac4",
   "metadata": {},
   "outputs": [
    {
     "name": "stdout",
     "output_type": "stream",
     "text": [
      "Rinku\n",
      "Payal\n",
      "Neeta\n",
      "Homal\n",
      "Ila\n",
      "mkljhgf\n"
     ]
    }
   ],
   "source": [
    "for i in dict1.values():\n",
    "  print(i)"
   ]
  },
  {
   "cell_type": "code",
   "execution_count": 1,
   "id": "cd7135e1",
   "metadata": {},
   "outputs": [],
   "source": [
    "l = [2,3,4,'jh','hh',9]"
   ]
  },
  {
   "cell_type": "code",
   "execution_count": 2,
   "id": "9dcf669c",
   "metadata": {},
   "outputs": [
    {
     "name": "stdout",
     "output_type": "stream",
     "text": [
      "2\n",
      "5\n",
      "8\n",
      "11\n",
      "14\n",
      "17\n",
      "20\n",
      "23\n",
      "26\n",
      "29\n"
     ]
    }
   ],
   "source": [
    "for x in range(2, 30, 3):\n",
    "  print(x)"
   ]
  },
  {
   "cell_type": "code",
   "execution_count": 3,
   "id": "db9a0d97",
   "metadata": {},
   "outputs": [
    {
     "name": "stdout",
     "output_type": "stream",
     "text": [
      "0\n",
      "1\n",
      "2\n",
      "3\n",
      "4\n",
      "5\n",
      "Finally finished!\n"
     ]
    }
   ],
   "source": [
    "for x in range(6):\n",
    "  print(x)\n",
    "else:\n",
    "  print(\"Finally finished!\")"
   ]
  },
  {
   "cell_type": "code",
   "execution_count": 4,
   "id": "92392c24",
   "metadata": {},
   "outputs": [
    {
     "name": "stdout",
     "output_type": "stream",
     "text": [
      "red apple\n",
      "red banana\n",
      "red cherry\n",
      "big apple\n",
      "big banana\n",
      "big cherry\n",
      "tasty apple\n",
      "tasty banana\n",
      "tasty cherry\n"
     ]
    }
   ],
   "source": [
    "adj = [\"red\", \"big\", \"tasty\"]\n",
    "fruits = [\"apple\", \"banana\", \"cherry\"]\n",
    "\n",
    "for x in adj:\n",
    "  for y in fruits:\n",
    "    print(x, y)"
   ]
  },
  {
   "cell_type": "code",
   "execution_count": 5,
   "id": "449f660c",
   "metadata": {},
   "outputs": [],
   "source": [
    "for x in [0, 1, 2]:\n",
    "  pass"
   ]
  },
  {
   "cell_type": "code",
   "execution_count": 6,
   "id": "afec6557",
   "metadata": {},
   "outputs": [
    {
     "name": "stdout",
     "output_type": "stream",
     "text": [
      "M\n",
      "y\n",
      " \n",
      "n\n",
      "a\n",
      "m\n",
      "e\n",
      " \n",
      "i\n",
      " i got s as a string \n",
      "s\n",
      " \n",
      "n\n",
      "e\n",
      "t\n",
      "a\n",
      "l\n"
     ]
    }
   ],
   "source": [
    "s = \"My name is netal\"\n",
    "for i in s :\n",
    "    if i == 's':\n",
    "        print(\" i got s as a string \")\n",
    "    print(i)"
   ]
  },
  {
   "cell_type": "code",
   "execution_count": 7,
   "id": "05fb6e6a",
   "metadata": {},
   "outputs": [
    {
     "name": "stdout",
     "output_type": "stream",
     "text": [
      "M\n",
      "y\n",
      " \n",
      "a\n",
      "m\n",
      "e\n",
      " \n",
      "i\n",
      "s\n",
      " \n",
      "e\n",
      "t\n",
      "a\n",
      "l\n",
      "this is a else condtion \n"
     ]
    }
   ],
   "source": [
    "for i in s :\n",
    "    if i == \"n\":\n",
    "        continue \n",
    "    print(i)\n",
    "else :\n",
    "    if i == 'u':\n",
    "        print(\"last char was u \")\n",
    "    print(\"this is a else condtion \")"
   ]
  },
  {
   "cell_type": "code",
   "execution_count": 8,
   "id": "fee19a0b",
   "metadata": {},
   "outputs": [],
   "source": [
    "s =  \"bit infotech\"\n",
    "ss = \"\"\n",
    "for i in range(len(s)):\n",
    "    if s[i] == \"b\":\n",
    "        continue\n",
    "    else :\n",
    "        ss = ss + s[i]"
   ]
  },
  {
   "cell_type": "code",
   "execution_count": 9,
   "id": "be5e79fa",
   "metadata": {},
   "outputs": [
    {
     "name": "stdout",
     "output_type": "stream",
     "text": [
      "0\n",
      "1\n",
      "5\n",
      "No items left.\n"
     ]
    }
   ],
   "source": [
    "digits = [0, 1, 5]\n",
    "\n",
    "for i in digits:\n",
    "    print(i)\n",
    "else:\n",
    "    print(\"No items left.\")"
   ]
  },
  {
   "cell_type": "code",
   "execution_count": 10,
   "id": "0fa09b8a",
   "metadata": {},
   "outputs": [
    {
     "name": "stdout",
     "output_type": "stream",
     "text": [
      "No entry with that name found.\n"
     ]
    }
   ],
   "source": [
    "# program to display student's marks from record\n",
    "\n",
    "student_name = 'Ankur'\n",
    "\n",
    "marks = {'Pinakin': 90, 'Mehul': 55, 'Manav': 77}\n",
    "\n",
    "for student in marks:\n",
    "    if student == student_name:\n",
    "        print(marks[student])\n",
    "        break\n",
    "else:\n",
    "    print('No entry with that name found.')"
   ]
  },
  {
   "cell_type": "code",
   "execution_count": 11,
   "id": "0a38a2fa",
   "metadata": {},
   "outputs": [
    {
     "name": "stdout",
     "output_type": "stream",
     "text": [
      "Enter number of rows: 6\n",
      "1 \n",
      "\n",
      "1 2 \n",
      "\n",
      "1 2 3 \n",
      "\n",
      "1 2 3 4 \n",
      "\n",
      "1 2 3 4 5 \n",
      "\n",
      "1 2 3 4 5 6 \n",
      "\n"
     ]
    }
   ],
   "source": [
    "rows = int(input(\"Enter number of rows: \"))\n",
    "\n",
    "for i in range(rows):\n",
    "    for j in range(i+1):\n",
    "        print(j+1, end=\" \")\n",
    "    print(\"\\n\")"
   ]
  },
  {
   "cell_type": "code",
   "execution_count": 12,
   "id": "9ffea90c",
   "metadata": {},
   "outputs": [
    {
     "name": "stdout",
     "output_type": "stream",
     "text": [
      "Enter number of rows: 6\n",
      "A \n",
      "\n",
      "B B \n",
      "\n",
      "C C C \n",
      "\n",
      "D D D D \n",
      "\n",
      "E E E E E \n",
      "\n",
      "F F F F F F \n",
      "\n"
     ]
    }
   ],
   "source": [
    "rows = int(input(\"Enter number of rows: \"))\n",
    "\n",
    "ascii_value = 65\n",
    "\n",
    "for i in range(rows):\n",
    "    for j in range(i+1):\n",
    "        alphabet = chr(ascii_value)\n",
    "        print(alphabet, end=\" \")\n",
    "    \n",
    "    ascii_value += 1\n",
    "    print(\"\\n\")"
   ]
  },
  {
   "cell_type": "code",
   "execution_count": 13,
   "id": "5319251d",
   "metadata": {},
   "outputs": [
    {
     "name": "stdout",
     "output_type": "stream",
     "text": [
      "Enter number of rows: 5\n",
      "\n",
      "\n",
      "A \n",
      "\n",
      "A B \n",
      "\n",
      "A B C \n",
      "\n",
      "A B C D \n",
      "\n"
     ]
    }
   ],
   "source": [
    "rows = int(input(\"Enter number of rows: \"))\n",
    "\n",
    "#ascii_value = 65\n",
    "\n",
    "for i in range(rows):\n",
    "    for j in range(65,65+i):\n",
    "        #alphabet = chr(ascii_value)\n",
    "        print(chr(j), end=\" \")\n",
    "    \n",
    "    #ascii_value += 1\n",
    "    print(\"\\n\")"
   ]
  },
  {
   "cell_type": "code",
   "execution_count": 14,
   "id": "c753c583",
   "metadata": {},
   "outputs": [
    {
     "name": "stdout",
     "output_type": "stream",
     "text": [
      "Enter number of rows: 5\n",
      "A B C D E \n",
      "\n",
      "A B C D \n",
      "\n",
      "A B C \n",
      "\n",
      "A B \n",
      "\n",
      "A \n",
      "\n"
     ]
    }
   ],
   "source": [
    "rows = int(input(\"Enter number of rows: \"))\n",
    "\n",
    "#ascii_value = 65\n",
    "\n",
    "for i in range(rows,0,-1):\n",
    "    for j in range(65,65+i):\n",
    "        #alphabet = chr(ascii_value)\n",
    "        print(chr(j), end=\" \")\n",
    "    \n",
    "    #ascii_value += 1\n",
    "    print(\"\\n\")"
   ]
  },
  {
   "cell_type": "code",
   "execution_count": 15,
   "id": "d72ed4b9",
   "metadata": {},
   "outputs": [
    {
     "name": "stdout",
     "output_type": "stream",
     "text": [
      "Enter number of rows: 5\n",
      "*  *  *  *  *  \n",
      "\n",
      "*  *  *  *  \n",
      "\n",
      "*  *  *  \n",
      "\n",
      "*  *  \n",
      "\n",
      "*  \n",
      "\n"
     ]
    }
   ],
   "source": [
    "rows = int(input(\"Enter number of rows: \"))\n",
    "\n",
    "for i in range(rows, 0, -1):\n",
    "    for j in range(0, i):\n",
    "        print(\"* \", end=\" \")\n",
    "    \n",
    "    print(\"\\n\")"
   ]
  },
  {
   "cell_type": "code",
   "execution_count": 16,
   "id": "b2c8af39",
   "metadata": {},
   "outputs": [
    {
     "name": "stdout",
     "output_type": "stream",
     "text": [
      "Enter number of rows: 5\n",
      "1 2 3 4 \n",
      "\n",
      "1 2 3 \n",
      "\n",
      "1 2 \n",
      "\n",
      "1 \n",
      "\n",
      "\n",
      "\n"
     ]
    }
   ],
   "source": [
    "rows = int(input(\"Enter number of rows: \"))\n",
    "\n",
    "for i in range(rows, 0, -1):\n",
    "    for j in range(1, i):\n",
    "        print(j, end=\" \")\n",
    "    \n",
    "    print(\"\\n\")"
   ]
  },
  {
   "cell_type": "code",
   "execution_count": 17,
   "id": "6edb9d46",
   "metadata": {},
   "outputs": [
    {
     "data": {
      "text/plain": [
       "range(6, 0, -1)"
      ]
     },
     "execution_count": 17,
     "metadata": {},
     "output_type": "execute_result"
    }
   ],
   "source": [
    "n=6\n",
    "d=range(n, 0, -1)\n",
    "d"
   ]
  },
  {
   "cell_type": "code",
   "execution_count": 18,
   "id": "673c3644",
   "metadata": {},
   "outputs": [
    {
     "name": "stdout",
     "output_type": "stream",
     "text": [
      "Enter number of rows: 5\n",
      "1 2 3 4 5 \n",
      "\n",
      "1 2 3 4 \n",
      "\n",
      "1 2 3 \n",
      "\n",
      "1 2 \n",
      "\n",
      "1 \n",
      "\n"
     ]
    }
   ],
   "source": [
    "rows = int(input(\"Enter number of rows: \"))\n",
    "\n",
    "for i in range(rows, 0, -1):\n",
    "    for j in range(1, i+1):\n",
    "        print(j, end=\" \")\n",
    "    \n",
    "    print(\"\\n\")"
   ]
  },
  {
   "cell_type": "code",
   "execution_count": 19,
   "id": "8bf0b8e1",
   "metadata": {},
   "outputs": [
    {
     "name": "stdout",
     "output_type": "stream",
     "text": [
      "Enter number of rows: 4\n",
      "      * \n",
      "    * * * \n",
      "  * * * * * \n",
      "* * * * * * * \n"
     ]
    }
   ],
   "source": [
    "rows = int(input(\"Enter number of rows: \"))\n",
    "\n",
    "k = 0\n",
    "\n",
    "for i in range(1, rows+1):\n",
    "    for space in range(1, (rows-i)+1):\n",
    "        print(end=\"  \")\n",
    "   \n",
    "    while k!=(2*i-1):\n",
    "        print(\"* \", end=\"\")\n",
    "        k += 1\n",
    "   \n",
    "    k = 0\n",
    "    print()"
   ]
  },
  {
   "cell_type": "code",
   "execution_count": 20,
   "id": "1c5156ba",
   "metadata": {},
   "outputs": [
    {
     "name": "stdout",
     "output_type": "stream",
     "text": [
      "Enter number of rows: 4\n",
      "* * * * * \n",
      "  * * * \n",
      "    * \n"
     ]
    }
   ],
   "source": [
    "rows = int(input(\"Enter number of rows: \"))\n",
    "\n",
    "for i in range(rows, 1, -1):\n",
    "    for space in range(0, rows-i):\n",
    "        print(\"  \", end=\"\")\n",
    "    for j in range(i, 2*i-1):\n",
    "        print(\"* \", end=\"\")\n",
    "    for j in range(1, i-1):\n",
    "        print(\"* \", end=\"\")\n",
    "    print()"
   ]
  },
  {
   "cell_type": "code",
   "execution_count": 21,
   "id": "f09a438a",
   "metadata": {},
   "outputs": [
    {
     "name": "stdout",
     "output_type": "stream",
     "text": [
      "Enter number of rows: 4\n",
      "1 \n",
      "2 3 \n",
      "4 5 6 \n",
      "7 8 9 10 \n"
     ]
    }
   ],
   "source": [
    "            # Floyd's Triangle\n",
    "\n",
    "rows = int(input(\"Enter number of rows: \"))\n",
    "number = 1\n",
    "\n",
    "for i in range(1, rows+1):\n",
    "    for j in range(1, i+1):\n",
    "        print(number, end=\" \")\n",
    "        number += 1\n",
    "    print()"
   ]
  },
  {
   "cell_type": "code",
   "execution_count": 22,
   "id": "848f7896",
   "metadata": {},
   "outputs": [
    {
     "name": "stdout",
     "output_type": "stream",
     "text": [
      "     \n",
      "    *\n",
      "   **\n",
      "  ***\n",
      " ****\n",
      "*****\n"
     ]
    }
   ],
   "source": [
    "n=5;i=0\n",
    "while(i<=n):\n",
    "  print(\" \" * (n - i) +\"*\" * i)\n",
    "  i+=1"
   ]
  },
  {
   "cell_type": "code",
   "execution_count": 23,
   "id": "5361b6db",
   "metadata": {},
   "outputs": [
    {
     "name": "stdout",
     "output_type": "stream",
     "text": [
      "    *\n",
      "   **\n",
      "  ***\n",
      " ****\n",
      "*****\n"
     ]
    }
   ],
   "source": [
    "h = 5\n",
    "for row in range(1, h+ 1):\n",
    "    print(\" \" * (h - row) +\"*\" * row)"
   ]
  },
  {
   "cell_type": "code",
   "execution_count": 24,
   "id": "ba6c64eb",
   "metadata": {},
   "outputs": [
    {
     "name": "stdout",
     "output_type": "stream",
     "text": [
      "Enter the height of the person1.60\n",
      "Enter the weight of the person60\n",
      "23.437499999999996  is the BMI for the person\n"
     ]
    }
   ],
   "source": [
    "          # Height should be enter in meter\n",
    "\n",
    "H = float(input(\"Enter the height of the person\"))\n",
    "W = float(input(\"Enter the weight of the person\"))\n",
    "\n",
    "BMI = (W / (H * H))\n",
    "\n",
    "print(BMI, \" is the BMI for the person\")"
   ]
  },
  {
   "cell_type": "code",
   "execution_count": 25,
   "id": "684d02af",
   "metadata": {},
   "outputs": [
    {
     "name": "stdout",
     "output_type": "stream",
     "text": [
      "*\n",
      "**\n",
      "***\n",
      "****\n"
     ]
    }
   ],
   "source": [
    "i = 1\n",
    "j = 5\n",
    "while i < j:\n",
    "  print(i * '*')\n",
    "  i = i+1"
   ]
  },
  {
   "cell_type": "code",
   "execution_count": 26,
   "id": "a145491e",
   "metadata": {},
   "outputs": [
    {
     "name": "stdout",
     "output_type": "stream",
     "text": [
      "This is my current speed\n",
      "This is my current speed\n",
      "This is my current speed\n",
      "This is my current speed\n"
     ]
    }
   ],
   "source": [
    "initial_speed  = 0\n",
    "final_speed = 100\n",
    "count = 1\n",
    "while initial_speed < final_speed:\n",
    "  print(\"This is my current speed\")\n",
    "  count = count + 1\n",
    "  if count == 5:\n",
    "    break"
   ]
  },
  {
   "cell_type": "code",
   "execution_count": 27,
   "id": "d9201cb5",
   "metadata": {},
   "outputs": [
    {
     "name": "stdout",
     "output_type": "stream",
     "text": [
      "1\n",
      "2\n",
      "3\n",
      "4\n",
      "No, Rs. 10 notes are available\n"
     ]
    }
   ],
   "source": [
    "notes  = 5 \n",
    "sum = 1\n",
    "while sum < notes:\n",
    "  print(sum)\n",
    "  sum = sum + 1\n",
    "print(\"No, Rs. 10 notes are available\")"
   ]
  },
  {
   "cell_type": "code",
   "execution_count": 28,
   "id": "9856f628",
   "metadata": {},
   "outputs": [
    {
     "name": "stdout",
     "output_type": "stream",
     "text": [
      "A\n",
      "n\n",
      "k\n",
      "u\n",
      "r\n"
     ]
    }
   ],
   "source": [
    "h = 'Ankur'\n",
    "for i in h:\n",
    "  print(i)"
   ]
  },
  {
   "cell_type": "code",
   "execution_count": 30,
   "id": "fda98d83",
   "metadata": {},
   "outputs": [
    {
     "name": "stdout",
     "output_type": "stream",
     "text": [
      "l\n",
      "a\n",
      "t\n",
      "e\n",
      "n\n"
     ]
    }
   ],
   "source": [
    "s = \"netal\"\n",
    "ch = len(s) -1\n",
    "while ch >= 0 :\n",
    "    print(s[ch])\n",
    "    ch = ch -1 "
   ]
  },
  {
   "cell_type": "code",
   "execution_count": 31,
   "id": "3f949036",
   "metadata": {},
   "outputs": [
    {
     "name": "stdout",
     "output_type": "stream",
     "text": [
      "netal\n",
      "netthis is al\n"
     ]
    }
   ],
   "source": [
    "s = \"netal\"\n",
    "new = s.replace(\"a\" , \"this is a\")\n",
    "print(s)\n",
    "print(new)"
   ]
  },
  {
   "cell_type": "code",
   "execution_count": 32,
   "id": "d0e1a950",
   "metadata": {},
   "outputs": [
    {
     "name": "stdout",
     "output_type": "stream",
     "text": [
      "b is not a vowel\n",
      "i is a vowel\n",
      "t is not a vowel\n",
      "i is a vowel\n",
      "n is not a vowel\n",
      "f is not a vowel\n",
      "o is a vowel\n",
      "t is not a vowel\n",
      "e is a vowel\n",
      "c is not a vowel\n",
      "h is not a vowel\n"
     ]
    }
   ],
   "source": [
    "name = \"bitinfotech\"\n",
    "vowels = \"AaEeIiOoUu\"\n",
    "\n",
    "for i in name :\n",
    "    if i in vowels:\n",
    "        print(\"{} is a vowel\".format(i))\n",
    "    else :\n",
    "        print(\"{} is not a vowel\".format(i))"
   ]
  },
  {
   "cell_type": "code",
   "execution_count": 34,
   "id": "62353e5c",
   "metadata": {},
   "outputs": [
    {
     "name": "stdout",
     "output_type": "stream",
     "text": [
      "enter a data for which you would like to check pelindrom kanak\n",
      "its a same \n"
     ]
    }
   ],
   "source": [
    "s = input(\"enter a data for which you would like to check pelindrom \" )\n",
    "s1 = s[::-1]\n",
    "if s ==s1:\n",
    "    print(\"its a same \")\n",
    "else :\n",
    "    print(\"its not a same \")"
   ]
  },
  {
   "cell_type": "code",
   "execution_count": null,
   "id": "aede14a0",
   "metadata": {},
   "outputs": [],
   "source": []
  }
 ],
 "metadata": {
  "kernelspec": {
   "display_name": "Python 3 (ipykernel)",
   "language": "python",
   "name": "python3"
  },
  "language_info": {
   "codemirror_mode": {
    "name": "ipython",
    "version": 3
   },
   "file_extension": ".py",
   "mimetype": "text/x-python",
   "name": "python",
   "nbconvert_exporter": "python",
   "pygments_lexer": "ipython3",
   "version": "3.9.12"
  }
 },
 "nbformat": 4,
 "nbformat_minor": 5
}
