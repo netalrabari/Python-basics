{
 "cells": [
  {
   "cell_type": "markdown",
   "id": "74ba6757",
   "metadata": {},
   "source": [
    "# Inheritance"
   ]
  },
  {
   "cell_type": "code",
   "execution_count": 5,
   "id": "63dffb30",
   "metadata": {},
   "outputs": [],
   "source": [
    "# Inheritance is the capability of one class to derive or inherit the properties from another class."
   ]
  },
  {
   "cell_type": "markdown",
   "id": "e8e54e96",
   "metadata": {},
   "source": [
    "# #Benefits of inheritance are:"
   ]
  },
  {
   "cell_type": "code",
   "execution_count": 6,
   "id": "e26db783",
   "metadata": {},
   "outputs": [],
   "source": [
    "#It represents real-world relationships well.\n",
    "#It provides the reusability of a code. \n",
    "#We don’t have to write the same code again and again. Also, it allows us to add more features to a class without modifying it.\n",
    "#It is transitive in nature, which means that if class B inherits from another class A, then all the subclasses of B would"
   ]
  },
  {
   "cell_type": "code",
   "execution_count": 7,
   "id": "fc619a5d",
   "metadata": {},
   "outputs": [
    {
     "ename": "SyntaxError",
     "evalue": "invalid syntax (4236516612.py, line 1)",
     "output_type": "error",
     "traceback": [
      "\u001b[1;36m  Input \u001b[1;32mIn [7]\u001b[1;36m\u001b[0m\n\u001b[1;33m    Inheritance Syntax\u001b[0m\n\u001b[1;37m                ^\u001b[0m\n\u001b[1;31mSyntaxError\u001b[0m\u001b[1;31m:\u001b[0m invalid syntax\n"
     ]
    }
   ],
   "source": [
    " Inheritance Syntax\n",
    "Class BaseClass:\n",
    "    {Body}\n",
    "Class DerivedClass(BaseClass):\n",
    "    {Body}"
   ]
  },
  {
   "cell_type": "markdown",
   "id": "5fd4520e",
   "metadata": {},
   "source": [
    "# Creating a Parent Class"
   ]
  },
  {
   "cell_type": "code",
   "execution_count": 8,
   "id": "bb9b4d15",
   "metadata": {},
   "outputs": [
    {
     "name": "stdout",
     "output_type": "stream",
     "text": [
      "netal 100 35\n"
     ]
    }
   ],
   "source": [
    "class Person(object):\n",
    "   \n",
    "  # Constructor or intialization \n",
    "    def __init__(self, name, id, age, ):\n",
    "        self.name = name\n",
    "        self.id = id\n",
    "        self.age = age\n",
    " \n",
    "    def Display(self):\n",
    "        print(self.name, self.id, self.age)\n",
    " \n",
    "emp = Person(\"netal\", 100, 35) # An Object of Person\n",
    "emp.Display()"
   ]
  },
  {
   "cell_type": "markdown",
   "id": "e5b93169",
   "metadata": {},
   "source": [
    "# Creating a child class"
   ]
  },
  {
   "cell_type": "code",
   "execution_count": 9,
   "id": "332e230e",
   "metadata": {},
   "outputs": [
    {
     "name": "stdout",
     "output_type": "stream",
     "text": [
      "xyz 103 76\n",
      "This is child class\n"
     ]
    }
   ],
   "source": [
    "class child(Person):\n",
    "   \n",
    "  def Print(self):\n",
    "        print(\"This is child class\")\n",
    "     \n",
    "Emp_details = child(\"xyz\", 103, 76) # An Object of Person\n",
    "  \n",
    "# calling parent class function\n",
    "Emp_details.Display()\n",
    " \n",
    "# Calling child class function\n",
    "Emp_details.Print()"
   ]
  },
  {
   "cell_type": "code",
   "execution_count": 10,
   "id": "20975180",
   "metadata": {},
   "outputs": [
    {
     "name": "stdout",
     "output_type": "stream",
     "text": [
      "abc\n",
      "886012\n"
     ]
    }
   ],
   "source": [
    "# parent class\n",
    "class Person(object):\n",
    " \n",
    "    # __init__ is known as the constructor\n",
    "    def __init__(self, name, idnumber):\n",
    "        self.name = name\n",
    "        self.idnumber = idnumber\n",
    " \n",
    "    def display(self):\n",
    "        print(self.name)\n",
    "        print(self.idnumber)\n",
    "\n",
    "# child class\n",
    "class Employee(Person):\n",
    "    def __init__(self, name, idnumber, salary, post):\n",
    "        self.salary = salary\n",
    "        \n",
    "        self.post = post\n",
    " \n",
    "        # invoking the __init__ of the parent class\n",
    "        Person.__init__(self, name, idnumber)\n",
    "        \n",
    "a = Employee('abc', 886012, 200000, \"Intern\")\n",
    "a.display()"
   ]
  },
  {
   "cell_type": "code",
   "execution_count": 11,
   "id": "49f68c88",
   "metadata": {},
   "outputs": [],
   "source": [
    "class xyz:\n",
    "    def __init__(self,a,b,c):\n",
    "        self.a = a\n",
    "        self.b = b\n",
    "        self.c = c\n",
    "        \n",
    "    def test(self):\n",
    "        print(\"This is my first test method of xyz class\")\n",
    "        \n",
    "    def test1(self):\n",
    "        print(\"This is my second test method of xyz class\")\n",
    "        \n",
    "    def test2(self):\n",
    "        print(\"This is my test2 method of xyz class \")"
   ]
  },
  {
   "cell_type": "code",
   "execution_count": 12,
   "id": "044c7d7c",
   "metadata": {},
   "outputs": [],
   "source": [
    "p = xyz(1,2,3)"
   ]
  },
  {
   "cell_type": "code",
   "execution_count": 13,
   "id": "f8f631f2",
   "metadata": {},
   "outputs": [
    {
     "name": "stdout",
     "output_type": "stream",
     "text": [
      "This is my second test method of xyz class\n"
     ]
    }
   ],
   "source": [
    "p.test1()"
   ]
  },
  {
   "cell_type": "code",
   "execution_count": 14,
   "id": "2c80dce1",
   "metadata": {},
   "outputs": [],
   "source": [
    "class xyz1(xyz):\n",
    "    pass"
   ]
  },
  {
   "cell_type": "code",
   "execution_count": 15,
   "id": "beca070c",
   "metadata": {},
   "outputs": [
    {
     "ename": "TypeError",
     "evalue": "__init__() missing 3 required positional arguments: 'a', 'b', and 'c'",
     "output_type": "error",
     "traceback": [
      "\u001b[1;31m---------------------------------------------------------------------------\u001b[0m",
      "\u001b[1;31mTypeError\u001b[0m                                 Traceback (most recent call last)",
      "Input \u001b[1;32mIn [15]\u001b[0m, in \u001b[0;36m<cell line: 1>\u001b[1;34m()\u001b[0m\n\u001b[1;32m----> 1\u001b[0m q \u001b[38;5;241m=\u001b[39m \u001b[43mxyz1\u001b[49m\u001b[43m(\u001b[49m\u001b[43m)\u001b[49m\n",
      "\u001b[1;31mTypeError\u001b[0m: __init__() missing 3 required positional arguments: 'a', 'b', and 'c'"
     ]
    }
   ],
   "source": [
    "q = xyz1()"
   ]
  },
  {
   "cell_type": "code",
   "execution_count": 16,
   "id": "d4a1d2fe",
   "metadata": {},
   "outputs": [],
   "source": [
    "q = xyz1(3,4,5)"
   ]
  },
  {
   "cell_type": "code",
   "execution_count": 17,
   "id": "aab2b2eb",
   "metadata": {},
   "outputs": [
    {
     "name": "stdout",
     "output_type": "stream",
     "text": [
      "This is my second test method of xyz class\n"
     ]
    }
   ],
   "source": [
    "q.test1()"
   ]
  },
  {
   "cell_type": "code",
   "execution_count": 18,
   "id": "bba2cbdc",
   "metadata": {},
   "outputs": [],
   "source": [
    "          ## override function in inheritance\n",
    "    \n",
    "class xyz1(xyz):\n",
    "    def test(self):  ## override function in inheritance\n",
    "        print(\"This is a test method available in xyz1\")"
   ]
  },
  {
   "cell_type": "code",
   "execution_count": 19,
   "id": "6df87e7d",
   "metadata": {},
   "outputs": [],
   "source": [
    "g = xyz1(4,5,6)"
   ]
  },
  {
   "cell_type": "code",
   "execution_count": 20,
   "id": "3152869f",
   "metadata": {},
   "outputs": [
    {
     "name": "stdout",
     "output_type": "stream",
     "text": [
      "This is a test method available in xyz1\n"
     ]
    }
   ],
   "source": [
    "g.test()"
   ]
  },
  {
   "cell_type": "code",
   "execution_count": 21,
   "id": "f938f0d7",
   "metadata": {},
   "outputs": [],
   "source": [
    "class xyz():\n",
    "    def __init__(self, a ,b,c):\n",
    "        self.a = a\n",
    "        self.b = b\n",
    "        self.c = c\n",
    "    def test(self):\n",
    "        print(\"This is a method of xyz class\")\n",
    "    \n",
    "class xyz1():\n",
    "    def __init__(self, p,q,r):\n",
    "        self.p = p\n",
    "        self.q = q\n",
    "        self.r = r\n",
    "        \n",
    "    def test1(self):\n",
    "        print(\"This is a method from class xyz1\")\n",
    "        \n",
    "class child(xyz,xyz1):\n",
    "    pass"
   ]
  },
  {
   "cell_type": "code",
   "execution_count": 22,
   "id": "d09dc22f",
   "metadata": {},
   "outputs": [],
   "source": [
    "n = child(4,5,6)"
   ]
  },
  {
   "cell_type": "code",
   "execution_count": 23,
   "id": "bccf541e",
   "metadata": {},
   "outputs": [
    {
     "name": "stdout",
     "output_type": "stream",
     "text": [
      "This is a method from class xyz1\n"
     ]
    }
   ],
   "source": [
    "n.test1()"
   ]
  },
  {
   "cell_type": "code",
   "execution_count": 24,
   "id": "ddd38e23",
   "metadata": {},
   "outputs": [],
   "source": [
    "class xyz():\n",
    "    def __init__(self, a ,b,c):\n",
    "        self.a = a\n",
    "        self.b = b\n",
    "        self.c = c\n",
    "    def test(self):\n",
    "        print(\"This is a method of xyz class\")\n",
    "    \n",
    "class xyz1():\n",
    "    def __init__(self, p,q,r):\n",
    "        self.p = p\n",
    "        self.q = q\n",
    "        self.r = r\n",
    "        \n",
    "    def test1(self):\n",
    "        print(\"This is a method from class xyz1\")\n",
    "        \n",
    "class child(xyz,xyz1):\n",
    "    def __init__(self, *args):\n",
    "        xyz.__init__(self, *args)\n",
    "        xyz1.__init__(self, *args)"
   ]
  },
  {
   "cell_type": "code",
   "execution_count": 25,
   "id": "325b95c4",
   "metadata": {},
   "outputs": [],
   "source": [
    "n = child(4,5,6)"
   ]
  },
  {
   "cell_type": "code",
   "execution_count": 26,
   "id": "0877f1e2",
   "metadata": {},
   "outputs": [
    {
     "data": {
      "text/plain": [
       "4"
      ]
     },
     "execution_count": 26,
     "metadata": {},
     "output_type": "execute_result"
    }
   ],
   "source": [
    "n.a"
   ]
  },
  {
   "cell_type": "code",
   "execution_count": 27,
   "id": "92398032",
   "metadata": {},
   "outputs": [
    {
     "name": "stdout",
     "output_type": "stream",
     "text": [
      "This is a method of xyz class\n"
     ]
    }
   ],
   "source": [
    "n.test()"
   ]
  },
  {
   "cell_type": "markdown",
   "id": "ef8b9adb",
   "metadata": {},
   "source": [
    "# Multiple Level Inheritance"
   ]
  },
  {
   "cell_type": "code",
   "execution_count": 28,
   "id": "c2d411d7",
   "metadata": {},
   "outputs": [],
   "source": [
    "class xyz():\n",
    "    def __init__(self, a ,b,c):\n",
    "        self.a = a\n",
    "        self.b = b\n",
    "        self.c = c\n",
    "    def test(self):\n",
    "        print(\"This is a method of xyz class\")\n",
    "    \n",
    "class xyz1(xyz):\n",
    "    def test1(self):\n",
    "        print(\"This is a method from class xyz1\")\n",
    "        \n",
    "class xyz2(xyz1):\n",
    "    def test2(self):\n",
    "        print(\"This is s mrthod from class xyz2\")"
   ]
  },
  {
   "cell_type": "code",
   "execution_count": 29,
   "id": "9d3a01bb",
   "metadata": {},
   "outputs": [],
   "source": [
    "g = xyz2(3,4,4)"
   ]
  },
  {
   "cell_type": "code",
   "execution_count": 30,
   "id": "902d866a",
   "metadata": {},
   "outputs": [
    {
     "name": "stdout",
     "output_type": "stream",
     "text": [
      "This is a method of xyz class\n"
     ]
    }
   ],
   "source": [
    "g.test()"
   ]
  },
  {
   "cell_type": "markdown",
   "id": "f602d25c",
   "metadata": {},
   "source": [
    "# Encapsulation"
   ]
  },
  {
   "cell_type": "code",
   "execution_count": 31,
   "id": "911f3db2",
   "metadata": {},
   "outputs": [],
   "source": [
    "class test:\n",
    "    def __init__(self):\n",
    "        self.a = 4\n",
    "        \n",
    "class test1(test):\n",
    "    def __init__(self):\n",
    "        self.a = 7\n",
    "u = test()\n",
    "s = test1()"
   ]
  },
  {
   "cell_type": "code",
   "execution_count": 32,
   "id": "67002e0f",
   "metadata": {},
   "outputs": [
    {
     "data": {
      "text/plain": [
       "4"
      ]
     },
     "execution_count": 32,
     "metadata": {},
     "output_type": "execute_result"
    }
   ],
   "source": [
    "u.a"
   ]
  },
  {
   "cell_type": "code",
   "execution_count": 33,
   "id": "9befa64b",
   "metadata": {},
   "outputs": [
    {
     "data": {
      "text/plain": [
       "7"
      ]
     },
     "execution_count": 33,
     "metadata": {},
     "output_type": "execute_result"
    }
   ],
   "source": [
    "s.a"
   ]
  },
  {
   "cell_type": "code",
   "execution_count": 34,
   "id": "99796e48",
   "metadata": {},
   "outputs": [],
   "source": [
    "class test:\n",
    "    def __init__(self):\n",
    "        self.a = 4"
   ]
  },
  {
   "cell_type": "code",
   "execution_count": 35,
   "id": "214482fa",
   "metadata": {},
   "outputs": [],
   "source": [
    "s = test()"
   ]
  },
  {
   "cell_type": "code",
   "execution_count": 36,
   "id": "245a8f6b",
   "metadata": {},
   "outputs": [
    {
     "data": {
      "text/plain": [
       "4"
      ]
     },
     "execution_count": 36,
     "metadata": {},
     "output_type": "execute_result"
    }
   ],
   "source": [
    "s.a"
   ]
  },
  {
   "cell_type": "code",
   "execution_count": 37,
   "id": "4272986e",
   "metadata": {},
   "outputs": [
    {
     "data": {
      "text/plain": [
       "4"
      ]
     },
     "execution_count": 37,
     "metadata": {},
     "output_type": "execute_result"
    }
   ],
   "source": [
    "u.a"
   ]
  },
  {
   "cell_type": "code",
   "execution_count": 38,
   "id": "c5508f14",
   "metadata": {},
   "outputs": [],
   "source": [
    "class test:\n",
    "    def __init__(self):\n",
    "        self.__a = 4                      ## single underscore protected  ## double undrescore private\n",
    "                                          ## nothing is public\n",
    "        \n",
    "class test1(test):\n",
    "    def __init__(self):\n",
    "        self.__a = 7\n",
    "u = test()"
   ]
  },
  {
   "cell_type": "code",
   "execution_count": 39,
   "id": "c309dd49",
   "metadata": {},
   "outputs": [
    {
     "data": {
      "text/plain": [
       "4"
      ]
     },
     "execution_count": 39,
     "metadata": {},
     "output_type": "execute_result"
    }
   ],
   "source": [
    "s.a"
   ]
  },
  {
   "cell_type": "code",
   "execution_count": 40,
   "id": "791956ba",
   "metadata": {},
   "outputs": [],
   "source": [
    "class test:\n",
    "    def __init__(self,a,b,c):\n",
    "        self.a = a\n",
    "        self.b = b\n",
    "        self.c = c\n",
    "        \n",
    "v = test(5,6,7)"
   ]
  },
  {
   "cell_type": "code",
   "execution_count": 41,
   "id": "b24b8f12",
   "metadata": {},
   "outputs": [
    {
     "data": {
      "text/plain": [
       "7"
      ]
     },
     "execution_count": 41,
     "metadata": {},
     "output_type": "execute_result"
    }
   ],
   "source": [
    "v.c"
   ]
  },
  {
   "cell_type": "code",
   "execution_count": 42,
   "id": "9a79fbc3",
   "metadata": {},
   "outputs": [
    {
     "ename": "AttributeError",
     "evalue": "'test' object has no attribute '_test__b'",
     "output_type": "error",
     "traceback": [
      "\u001b[1;31m---------------------------------------------------------------------------\u001b[0m",
      "\u001b[1;31mAttributeError\u001b[0m                            Traceback (most recent call last)",
      "Input \u001b[1;32mIn [42]\u001b[0m, in \u001b[0;36m<cell line: 1>\u001b[1;34m()\u001b[0m\n\u001b[1;32m----> 1\u001b[0m \u001b[43mv\u001b[49m\u001b[38;5;241;43m.\u001b[39;49m\u001b[43m_test__b\u001b[49m\n",
      "\u001b[1;31mAttributeError\u001b[0m: 'test' object has no attribute '_test__b'"
     ]
    }
   ],
   "source": [
    "v._test__b"
   ]
  },
  {
   "cell_type": "code",
   "execution_count": 43,
   "id": "82983ff3",
   "metadata": {},
   "outputs": [],
   "source": [
    "class test:\n",
    "    def __init__(self,a,b,c):\n",
    "        self._a = a\n",
    "        self.__b = b\n",
    "        self.c = c\n",
    "class test1(test):\n",
    "    pass\n",
    "        \n",
    "v = test(5,6,7)"
   ]
  },
  {
   "cell_type": "code",
   "execution_count": 44,
   "id": "01926bd4",
   "metadata": {},
   "outputs": [
    {
     "data": {
      "text/plain": [
       "5"
      ]
     },
     "execution_count": 44,
     "metadata": {},
     "output_type": "execute_result"
    }
   ],
   "source": [
    "v._a"
   ]
  },
  {
   "cell_type": "code",
   "execution_count": 45,
   "id": "829899ce",
   "metadata": {},
   "outputs": [
    {
     "data": {
      "text/plain": [
       "6"
      ]
     },
     "execution_count": 45,
     "metadata": {},
     "output_type": "execute_result"
    }
   ],
   "source": [
    "v._test__b"
   ]
  },
  {
   "cell_type": "code",
   "execution_count": 46,
   "id": "3e41315c",
   "metadata": {},
   "outputs": [
    {
     "data": {
      "text/plain": [
       "7"
      ]
     },
     "execution_count": 46,
     "metadata": {},
     "output_type": "execute_result"
    }
   ],
   "source": [
    "v.c"
   ]
  },
  {
   "cell_type": "code",
   "execution_count": 47,
   "id": "40afe41d",
   "metadata": {},
   "outputs": [],
   "source": [
    "u = test1(3,4,5)"
   ]
  },
  {
   "cell_type": "code",
   "execution_count": 48,
   "id": "36c1756f",
   "metadata": {},
   "outputs": [
    {
     "data": {
      "text/plain": [
       "5"
      ]
     },
     "execution_count": 48,
     "metadata": {},
     "output_type": "execute_result"
    }
   ],
   "source": [
    "u.c"
   ]
  },
  {
   "cell_type": "code",
   "execution_count": 49,
   "id": "e9c7cf37",
   "metadata": {},
   "outputs": [
    {
     "data": {
      "text/plain": [
       "3"
      ]
     },
     "execution_count": 49,
     "metadata": {},
     "output_type": "execute_result"
    }
   ],
   "source": [
    "u._a"
   ]
  },
  {
   "cell_type": "code",
   "execution_count": 50,
   "id": "be4f6c65",
   "metadata": {},
   "outputs": [
    {
     "data": {
      "text/plain": [
       "4"
      ]
     },
     "execution_count": 50,
     "metadata": {},
     "output_type": "execute_result"
    }
   ],
   "source": [
    "u._test__b"
   ]
  },
  {
   "cell_type": "code",
   "execution_count": 51,
   "id": "b801679d",
   "metadata": {},
   "outputs": [],
   "source": [
    "class pub_mod:\n",
    "    \n",
    "    # constructor\n",
    "    \n",
    "    def __init__(self, name, age):\n",
    "        self._name = name;\n",
    "        self.__age = age;\n",
    " \n",
    "    def Age(self): \n",
    "        \n",
    "        # accessing public data member \n",
    "        \n",
    "        print(\"Age: \", self.age)"
   ]
  },
  {
   "cell_type": "code",
   "execution_count": 52,
   "id": "dec6876c",
   "metadata": {},
   "outputs": [],
   "source": [
    "# creating object \n",
    "\n",
    "obj = pub_mod(\"Jason\", 35);\n",
    "\n",
    "# accessing public data member \n",
    "#print(\"Name: \", obj.name)  \n",
    "# calling public member function of the class "
   ]
  },
  {
   "cell_type": "code",
   "execution_count": 53,
   "id": "83055947",
   "metadata": {},
   "outputs": [
    {
     "data": {
      "text/plain": [
       "<bound method pub_mod.Age of <__main__.pub_mod object at 0x0000028731D4CEE0>>"
      ]
     },
     "execution_count": 53,
     "metadata": {},
     "output_type": "execute_result"
    }
   ],
   "source": [
    "obj.Age"
   ]
  },
  {
   "cell_type": "code",
   "execution_count": 54,
   "id": "9d224039",
   "metadata": {},
   "outputs": [
    {
     "data": {
      "text/plain": [
       "35"
      ]
     },
     "execution_count": 54,
     "metadata": {},
     "output_type": "execute_result"
    }
   ],
   "source": [
    "obj._pub_mod__age"
   ]
  },
  {
   "cell_type": "code",
   "execution_count": 55,
   "id": "b1bf98a7",
   "metadata": {},
   "outputs": [
    {
     "data": {
      "text/plain": [
       "'Jason'"
      ]
     },
     "execution_count": 55,
     "metadata": {},
     "output_type": "execute_result"
    }
   ],
   "source": [
    "obj._name"
   ]
  },
  {
   "cell_type": "code",
   "execution_count": 56,
   "id": "ed85f02a",
   "metadata": {},
   "outputs": [],
   "source": [
    "# illustrating private members & private access modifier \n",
    "\n",
    "class Rectangle:\n",
    "  \n",
    "  def __init__(self,length,breadth): \n",
    "    self.length = length\n",
    "    self.__breadth = breadth\n",
    "     \n",
    "rect = Rectangle(5,6) \n",
    "\n",
    "#object created \n",
    "#printing values of the private variable outside the class"
   ]
  },
  {
   "cell_type": "code",
   "execution_count": 57,
   "id": "963bcee7",
   "metadata": {},
   "outputs": [
    {
     "data": {
      "text/plain": [
       "5"
      ]
     },
     "execution_count": 57,
     "metadata": {},
     "output_type": "execute_result"
    }
   ],
   "source": [
    "rect.length\n",
    "#rect._length\n",
    "#rect.__length\n",
    "#rect._Rectangle__length"
   ]
  },
  {
   "cell_type": "markdown",
   "id": "86afa389",
   "metadata": {},
   "source": [
    "# Use of super()\n",
    "\n",
    "In Python, super() has two major use cases:\n",
    "\n",
    "Allows us to avoid using the base class name explicitly Working with Multiple Inheritance"
   ]
  },
  {
   "cell_type": "code",
   "execution_count": 58,
   "id": "7e10c752",
   "metadata": {},
   "outputs": [
    {
     "ename": "TypeError",
     "evalue": "object.__init__() takes exactly one argument (the instance to initialize)",
     "output_type": "error",
     "traceback": [
      "\u001b[1;31m---------------------------------------------------------------------------\u001b[0m",
      "\u001b[1;31mTypeError\u001b[0m                                 Traceback (most recent call last)",
      "Input \u001b[1;32mIn [58]\u001b[0m, in \u001b[0;36m<cell line: 18>\u001b[1;34m()\u001b[0m\n\u001b[0;32m     15\u001b[0m         \u001b[38;5;28msuper\u001b[39m()\u001b[38;5;241m.\u001b[39m\u001b[38;5;21m__init__\u001b[39m(window, doors, color, engine)\n\u001b[0;32m     16\u001b[0m         \u001b[38;5;28mself\u001b[39m\u001b[38;5;241m.\u001b[39mspeed \u001b[38;5;241m=\u001b[39m speed\n\u001b[1;32m---> 18\u001b[0m audiq7 \u001b[38;5;241m=\u001b[39m \u001b[43mAudi\u001b[49m\u001b[43m(\u001b[49m\u001b[38;5;241;43m4\u001b[39;49m\u001b[43m,\u001b[49m\u001b[38;5;241;43m5\u001b[39;49m\u001b[43m,\u001b[49m\u001b[38;5;124;43m'\u001b[39;49m\u001b[38;5;124;43mblack\u001b[39;49m\u001b[38;5;124;43m'\u001b[39;49m\u001b[43m,\u001b[49m\u001b[38;5;124;43m'\u001b[39;49m\u001b[38;5;124;43mpetrol\u001b[39;49m\u001b[38;5;124;43m'\u001b[39;49m\u001b[43m,\u001b[49m\u001b[38;5;241;43m100\u001b[39;49m\u001b[43m)\u001b[49m\n\u001b[0;32m     20\u001b[0m \u001b[38;5;28mprint\u001b[39m(audiq7\u001b[38;5;241m.\u001b[39mspeed)\n\u001b[0;32m     21\u001b[0m \u001b[38;5;28mprint\u001b[39m(audiq7\u001b[38;5;241m.\u001b[39mwindow)\n",
      "Input \u001b[1;32mIn [58]\u001b[0m, in \u001b[0;36mAudi.__init__\u001b[1;34m(self, window, doors, color, engine, speed)\u001b[0m\n\u001b[0;32m     14\u001b[0m \u001b[38;5;28;01mdef\u001b[39;00m \u001b[38;5;21m__init__\u001b[39m(\u001b[38;5;28mself\u001b[39m,window, doors, color, engine, speed):\n\u001b[1;32m---> 15\u001b[0m     \u001b[38;5;28;43msuper\u001b[39;49m\u001b[43m(\u001b[49m\u001b[43m)\u001b[49m\u001b[38;5;241;43m.\u001b[39;49m\u001b[38;5;21;43m__init__\u001b[39;49m\u001b[43m(\u001b[49m\u001b[43mwindow\u001b[49m\u001b[43m,\u001b[49m\u001b[43m \u001b[49m\u001b[43mdoors\u001b[49m\u001b[43m,\u001b[49m\u001b[43m \u001b[49m\u001b[43mcolor\u001b[49m\u001b[43m,\u001b[49m\u001b[43m \u001b[49m\u001b[43mengine\u001b[49m\u001b[43m)\u001b[49m\n\u001b[0;32m     16\u001b[0m     \u001b[38;5;28mself\u001b[39m\u001b[38;5;241m.\u001b[39mspeed \u001b[38;5;241m=\u001b[39m speed\n",
      "\u001b[1;31mTypeError\u001b[0m: object.__init__() takes exactly one argument (the instance to initialize)"
     ]
    }
   ],
   "source": [
    "## car class blueprint\n",
    "class Car:\n",
    "    def __init_(self, window, doors, color, engine):\n",
    "        self.window = window\n",
    "        self.doors = doors\n",
    "        self.color = color\n",
    "        self.engine = engine\n",
    "    def driving(self):\n",
    "        print(\"Car is used for driving\")\n",
    "        \n",
    "# Audi class inheriting from car class  \n",
    "\n",
    "class Audi(Car):\n",
    "    def __init__(self,window, doors, color, engine, speed):\n",
    "        super().__init__(window, doors, color, engine)\n",
    "        self.speed = speed\n",
    "                \n",
    "audiq7 = Audi(4,5,'black','petrol',100)\n",
    "\n",
    "print(audiq7.speed)\n",
    "print(audiq7.window)\n",
    "print(audiq7.driving())\n",
    "print(dir(audiq7))"
   ]
  },
  {
   "cell_type": "code",
   "execution_count": 59,
   "id": "6dac0873",
   "metadata": {},
   "outputs": [
    {
     "name": "stdout",
     "output_type": "stream",
     "text": [
      "Animal Type: Mammal\n",
      "Mammals give birth directly\n"
     ]
    }
   ],
   "source": [
    "class Animal(object):\n",
    "  def __init__(self, animal_type):\n",
    "    print('Animal Type:', animal_type)\n",
    "    \n",
    "class Mammal(Animal):\n",
    "  def __init__(self):\n",
    "\n",
    "    # call superclass\n",
    "    super().__init__('Mammal')\n",
    "    print('Mammals give birth directly')\n",
    "    \n",
    "dog = Mammal()"
   ]
  },
  {
   "cell_type": "code",
   "execution_count": 60,
   "id": "e61fbf0e",
   "metadata": {},
   "outputs": [
    {
     "name": "stdout",
     "output_type": "stream",
     "text": [
      "Dog has four legs.\n",
      "Dog is a warm-blooded animal.\n"
     ]
    }
   ],
   "source": [
    "class Mammal(object):\n",
    "  def __init__(self, mammalName):\n",
    "    print(mammalName, 'is a warm-blooded animal.')\n",
    "    \n",
    "class Dog(Mammal):\n",
    "  def __init__(self):\n",
    "    print('Dog has four legs.')\n",
    "    super().__init__('Dog')\n",
    "    \n",
    "d1 = Dog()"
   ]
  },
  {
   "cell_type": "code",
   "execution_count": 61,
   "id": "473088c9",
   "metadata": {},
   "outputs": [
    {
     "name": "stdout",
     "output_type": "stream",
     "text": [
      "Dog has 4 legs.\n",
      "Dog can't swim.\n",
      "Dog can't fly.\n",
      "Dog is a warm-blooded animal.\n",
      "Dog is an animal.\n",
      "\n",
      "Bat can't swim.\n",
      "Bat is a warm-blooded animal.\n",
      "Bat is an animal.\n"
     ]
    }
   ],
   "source": [
    "# super() with Multiple Inheritance\n",
    "\n",
    "class Animal:\n",
    "  def __init__(self, Animal):\n",
    "    print(Animal, 'is an animal.');\n",
    "\n",
    "class Mammal(Animal):\n",
    "  def __init__(self, mammalName):\n",
    "    print(mammalName, 'is a warm-blooded animal.')\n",
    "    super().__init__(mammalName)\n",
    "    \n",
    "class NonWingedMammal(Mammal):\n",
    "  def __init__(self, NonWingedMammal):\n",
    "    print(NonWingedMammal, \"can't fly.\")\n",
    "    super().__init__(NonWingedMammal)\n",
    "\n",
    "class NonMarineMammal(Mammal):\n",
    "  def __init__(self, NonMarineMammal):\n",
    "    print(NonMarineMammal, \"can't swim.\")\n",
    "    super().__init__(NonMarineMammal)\n",
    "\n",
    "class Dog(NonMarineMammal, NonWingedMammal):\n",
    "  def __init__(self):\n",
    "    print('Dog has 4 legs.');\n",
    "    super().__init__('Dog')\n",
    "    \n",
    "d = Dog()\n",
    "print('')\n",
    "bat = NonMarineMammal('Bat')"
   ]
  },
  {
   "cell_type": "code",
   "execution_count": 62,
   "id": "4b03224f",
   "metadata": {},
   "outputs": [
    {
     "name": "stdout",
     "output_type": "stream",
     "text": [
      "The ID is: 103\n",
      "The Name is: Suraj kr gupta\n",
      "The Address is: Noida\n",
      "The Emails is: KKK@gmails\n"
     ]
    }
   ],
   "source": [
    "class Emp():\n",
    "    def __init__(self, id, name, Add):\n",
    "        self.id = id\n",
    "        self.name = name\n",
    "        self.Add = Add\n",
    "\n",
    "# Class freelancer inherits EMP\n",
    "class Freelance(Emp):\n",
    "    def __init__(self, id, name, Add, Emails):\n",
    "        super().__init__(id, name, Add)\n",
    "        self.Emails = Emails\n",
    " \n",
    "Emp_1 = Freelance(103, \"Suraj kr gupta\", \"Noida\" , \"KKK@gmails\")\n",
    "print('The ID is:', Emp_1.id)\n",
    "print('The Name is:', Emp_1.name)\n",
    "print('The Address is:', Emp_1.Add)\n",
    "print('The Emails is:', Emp_1.Emails)"
   ]
  },
  {
   "cell_type": "code",
   "execution_count": 63,
   "id": "2ae1edb4",
   "metadata": {},
   "outputs": [],
   "source": [
    "def test(a,b):\n",
    "    return a + b"
   ]
  },
  {
   "cell_type": "code",
   "execution_count": 64,
   "id": "c19e0ad0",
   "metadata": {},
   "outputs": [
    {
     "data": {
      "text/plain": [
       "7"
      ]
     },
     "execution_count": 64,
     "metadata": {},
     "output_type": "execute_result"
    }
   ],
   "source": [
    "test(3,4)"
   ]
  },
  {
   "cell_type": "code",
   "execution_count": 65,
   "id": "d45aa7ac",
   "metadata": {},
   "outputs": [
    {
     "data": {
      "text/plain": [
       "'netalrabari'"
      ]
     },
     "execution_count": 65,
     "metadata": {},
     "output_type": "execute_result"
    }
   ],
   "source": [
    "test(\"netal\" , \"rabari\")"
   ]
  },
  {
   "cell_type": "code",
   "execution_count": 66,
   "id": "39b5cfe5",
   "metadata": {},
   "outputs": [],
   "source": [
    "class insta:\n",
    "    def share_stories(self) :\n",
    "        print(\"this will share my insta story \")\n",
    "        \n",
    "        \n",
    "class facebook :\n",
    "    def share_stories(self) :\n",
    "        print(\"this will share my facebook stories\")"
   ]
  },
  {
   "cell_type": "code",
   "execution_count": 67,
   "id": "5f6139d9",
   "metadata": {},
   "outputs": [],
   "source": [
    "def sharestroies(app) :\n",
    "    app.share_stories()"
   ]
  },
  {
   "cell_type": "code",
   "execution_count": 68,
   "id": "9fcecf0e",
   "metadata": {},
   "outputs": [],
   "source": [
    "i = insta()\n",
    "f = facebook()"
   ]
  },
  {
   "cell_type": "code",
   "execution_count": 69,
   "id": "c5180381",
   "metadata": {},
   "outputs": [
    {
     "name": "stdout",
     "output_type": "stream",
     "text": [
      "this will share my insta story \n"
     ]
    }
   ],
   "source": [
    "sharestroies(i)"
   ]
  },
  {
   "cell_type": "code",
   "execution_count": 70,
   "id": "8553c006",
   "metadata": {},
   "outputs": [
    {
     "name": "stdout",
     "output_type": "stream",
     "text": [
      "this will share my facebook stories\n"
     ]
    }
   ],
   "source": [
    "sharestroies(f)"
   ]
  },
  {
   "cell_type": "code",
   "execution_count": 71,
   "id": "50b461ec",
   "metadata": {},
   "outputs": [],
   "source": [
    "class social_media:\n",
    "    def share_stories(self) :\n",
    "        print(\"share a stroies\")\n",
    "    def upload_pic(self) :\n",
    "        print(\"this will help you to upload pic on social media\")\n",
    "        \n",
    "class facebook(social_media) :\n",
    "    def share_stories(self):\n",
    "        print(\"this is a fun for shargin an story for facebook\")\n",
    "    \n",
    "class insta(social_media):\n",
    "    def share_stories(self) :\n",
    "        print(\"this will print a stroy from insta\")"
   ]
  },
  {
   "cell_type": "code",
   "execution_count": 72,
   "id": "3b7c64b8",
   "metadata": {},
   "outputs": [],
   "source": [
    "f = facebook()\n",
    "i = insta()"
   ]
  },
  {
   "cell_type": "code",
   "execution_count": 73,
   "id": "64c551c4",
   "metadata": {},
   "outputs": [
    {
     "name": "stdout",
     "output_type": "stream",
     "text": [
      "this is a fun for shargin an story for facebook\n"
     ]
    }
   ],
   "source": [
    "f.share_stories()"
   ]
  },
  {
   "cell_type": "code",
   "execution_count": 74,
   "id": "67ec1db6",
   "metadata": {},
   "outputs": [
    {
     "name": "stdout",
     "output_type": "stream",
     "text": [
      "this will print a stroy from insta\n"
     ]
    }
   ],
   "source": [
    "i.share_stories()"
   ]
  },
  {
   "cell_type": "code",
   "execution_count": 75,
   "id": "f47ddf64",
   "metadata": {},
   "outputs": [],
   "source": [
    "class test(Exception):\n",
    "    def __init__(self , msg  , myval) :\n",
    "        self.msg = msg\n",
    "        self.myval =myval"
   ]
  },
  {
   "cell_type": "code",
   "execution_count": 76,
   "id": "ab7eeeaf",
   "metadata": {},
   "outputs": [
    {
     "name": "stdout",
     "output_type": "stream",
     "text": [
      "('this is my own exceptino class ', 'fdsafsaf')\n"
     ]
    }
   ],
   "source": [
    "try :\n",
    "    raise(test(\"this is my own exceptino class \" , \"fdsafsaf\"))\n",
    "except test as t :\n",
    "    print(t)"
   ]
  },
  {
   "cell_type": "code",
   "execution_count": 77,
   "id": "5829c104",
   "metadata": {},
   "outputs": [
    {
     "name": "stdout",
     "output_type": "stream",
     "text": [
      "('this is my own exceptino class ', 5)\n"
     ]
    }
   ],
   "source": [
    "try :\n",
    "    raise(test(\"this is my own exceptino class \",5))\n",
    "except test as t :\n",
    "    print(t)"
   ]
  },
  {
   "cell_type": "code",
   "execution_count": 78,
   "id": "d26508fe",
   "metadata": {},
   "outputs": [
    {
     "data": {
      "text/plain": [
       "'q1  create your own class for to achive multiple  , multilevel inheritance \\nq2  create your own class to represenet ploymorprism \\nq3 create your own class for custome exception\\nq4 create your own class to achive encaptulation\\nq5 create your own class to achive method overloading and overriding  . '"
      ]
     },
     "execution_count": 78,
     "metadata": {},
     "output_type": "execute_result"
    }
   ],
   "source": [
    "\"\"\"q1  create your own class for to achive multiple  , multilevel inheritance \n",
    "q2  create your own class to represenet ploymorprism \n",
    "q3 create your own class for custome exception\n",
    "q4 create your own class to achive encaptulation\n",
    "q5 create your own class to achive method overloading and overriding  . \"\"\""
   ]
  },
  {
   "cell_type": "code",
   "execution_count": 79,
   "id": "4e7f0359",
   "metadata": {},
   "outputs": [
    {
     "name": "stdout",
     "output_type": "stream",
     "text": [
      "Batch : 2\n",
      "course : FSDS\n"
     ]
    }
   ],
   "source": [
    "#Multiple inheritance\n",
    " \n",
    " \n",
    "# Parent class1\n",
    "class Batch_number:\n",
    "    batchnumber = \"\"\n",
    "    def __init__(self,a,b,c):\n",
    "        self.a = a \n",
    "        self.b= b \n",
    "        self.c = c \n",
    "    #@staticmethod   \n",
    "    def batch(self):\n",
    "        print(self.batchnumber)\n",
    " \n",
    "# Parent class2\n",
    "class course_name:\n",
    "    cname = \"\"\n",
    "    def course(self):\n",
    "        print(self.cname)\n",
    " \n",
    "# Child class\n",
    "class Student(Batch_number, course_name):\n",
    "    def deets(self):\n",
    "        print(\"Batch :\", self.batchnumber)\n",
    "        print(\"course :\", self.cname)\n",
    " \n",
    "# Child class code\n",
    "s1 = Student(4,5,6)\n",
    "s1.batchnumber = \"2\"\n",
    "s1.cname = \"FSDS\"\n",
    "s1.deets()"
   ]
  },
  {
   "cell_type": "code",
   "execution_count": 80,
   "id": "fad686fd",
   "metadata": {},
   "outputs": [],
   "source": [
    "# Parent class1\n",
    "class Batch_number:\n",
    "    batchnumber = \"FSDS\"\n",
    "    def __init__(self,a,b,c):\n",
    "        self.a = a \n",
    "        self.b= b \n",
    "        self.c = c \n",
    "        \n",
    "    @staticmethod    \n",
    "    def batch():\n",
    "        print(\"this is static method \")\n",
    "        \n",
    "    def batch1(self):\n",
    "        print(\"this is static method batch 1 \")"
   ]
  },
  {
   "cell_type": "code",
   "execution_count": 81,
   "id": "486c4544",
   "metadata": {},
   "outputs": [],
   "source": [
    "class accountdetail :\n",
    "    account_no = \"2354535345435\"\n",
    "    def __init__(self, amount) :\n",
    "        self.amount = amount\n",
    "        \n",
    "    def show_balance(self , deduction) :\n",
    "        self.amount = self.amount - deduction\n",
    "        return self.amount ,account_no"
   ]
  },
  {
   "cell_type": "code",
   "execution_count": 82,
   "id": "0c741cef",
   "metadata": {},
   "outputs": [
    {
     "name": "stdout",
     "output_type": "stream",
     "text": [
      "this is static method \n"
     ]
    }
   ],
   "source": [
    "Batch_number.batch()"
   ]
  },
  {
   "cell_type": "code",
   "execution_count": 83,
   "id": "15bf61c1",
   "metadata": {},
   "outputs": [
    {
     "name": "stdout",
     "output_type": "stream",
     "text": [
      "this is static method batch 1 \n"
     ]
    }
   ],
   "source": [
    "b = Batch_number(3,4,5)\n",
    "b.batch1()"
   ]
  },
  {
   "cell_type": "code",
   "execution_count": 84,
   "id": "d0f4c87e",
   "metadata": {},
   "outputs": [
    {
     "data": {
      "text/plain": [
       "'FSDS'"
      ]
     },
     "execution_count": 84,
     "metadata": {},
     "output_type": "execute_result"
    }
   ],
   "source": [
    "Batch_number.batchnumber"
   ]
  },
  {
   "cell_type": "code",
   "execution_count": 85,
   "id": "46cd35b7",
   "metadata": {},
   "outputs": [
    {
     "data": {
      "text/plain": [
       "4"
      ]
     },
     "execution_count": 85,
     "metadata": {},
     "output_type": "execute_result"
    }
   ],
   "source": [
    "b = Batch_number(4,5,6)\n",
    "b.a"
   ]
  },
  {
   "cell_type": "code",
   "execution_count": 86,
   "id": "76248612",
   "metadata": {},
   "outputs": [],
   "source": [
    "bn = Batch_number(3,4,5)"
   ]
  },
  {
   "cell_type": "code",
   "execution_count": 87,
   "id": "bdb21021",
   "metadata": {},
   "outputs": [
    {
     "name": "stdout",
     "output_type": "stream",
     "text": [
      "this is static method \n"
     ]
    }
   ],
   "source": [
    "bn.batch()"
   ]
  },
  {
   "cell_type": "code",
   "execution_count": 88,
   "id": "eca91638",
   "metadata": {},
   "outputs": [],
   "source": [
    "bn.batchnumber = \"netal\""
   ]
  },
  {
   "cell_type": "code",
   "execution_count": 89,
   "id": "fddd7926",
   "metadata": {},
   "outputs": [
    {
     "data": {
      "text/plain": [
       "'netal'"
      ]
     },
     "execution_count": 89,
     "metadata": {},
     "output_type": "execute_result"
    }
   ],
   "source": [
    "bn.batchnumber"
   ]
  },
  {
   "cell_type": "code",
   "execution_count": 90,
   "id": "519a9770",
   "metadata": {},
   "outputs": [
    {
     "data": {
      "text/plain": [
       "'netal'"
      ]
     },
     "execution_count": 90,
     "metadata": {},
     "output_type": "execute_result"
    }
   ],
   "source": [
    "bn.batchnumber"
   ]
  },
  {
   "cell_type": "code",
   "execution_count": 91,
   "id": "a08f10de",
   "metadata": {},
   "outputs": [],
   "source": [
    "Batch_number.batchnumber = \"rabari\""
   ]
  },
  {
   "cell_type": "code",
   "execution_count": 92,
   "id": "8f36e203",
   "metadata": {},
   "outputs": [
    {
     "data": {
      "text/plain": [
       "'rabari'"
      ]
     },
     "execution_count": 92,
     "metadata": {},
     "output_type": "execute_result"
    }
   ],
   "source": [
    "bn1 = Batch_number(1,2,3)\n",
    "bn1.a\n",
    "bn1.batchnumber"
   ]
  },
  {
   "cell_type": "code",
   "execution_count": 93,
   "id": "c9ba26ac",
   "metadata": {},
   "outputs": [
    {
     "data": {
      "text/plain": [
       "'rabari'"
      ]
     },
     "execution_count": 93,
     "metadata": {},
     "output_type": "execute_result"
    }
   ],
   "source": [
    "bn = Batch_number(4,5,6)\n",
    "bn.batchnumber"
   ]
  },
  {
   "cell_type": "code",
   "execution_count": 94,
   "id": "b04313ab",
   "metadata": {},
   "outputs": [
    {
     "name": "stdout",
     "output_type": "stream",
     "text": [
      "calss is going to start from 10am\n"
     ]
    }
   ],
   "source": [
    "class bit:\n",
    "    def class1(self):\n",
    "        print(\"calss is going to start from 10am\")\n",
    "class datascience:\n",
    "    def online_class(self):\n",
    "        print(\"no offline class available\")\n",
    "    \n",
    "i=bit()\n",
    "o=datascience()\n",
    "i.class1()"
   ]
  },
  {
   "cell_type": "code",
   "execution_count": 95,
   "id": "241522e3",
   "metadata": {},
   "outputs": [
    {
     "name": "stdout",
     "output_type": "stream",
     "text": [
      "This is my method of xyz1 class\n"
     ]
    }
   ],
   "source": [
    "class xyz:\n",
    "    def __init__(self,a,b,c):\n",
    "        self.a=a\n",
    "        self.b=b\n",
    "        self.c=c\n",
    "    \n",
    "    def test(self):\n",
    "            print(\"This is my method of xyz class\")\n",
    "class xyz1(xyz):\n",
    "    def test1(self):\n",
    "        print(\"This is my method of xyz1 class\")\n",
    "        \n",
    "class xyz2(xyz1):\n",
    "    def test2(self):\n",
    "        print(\"method of xyz2 class\")\n",
    "        \n",
    "n=xyz1(3,4,5)\n",
    "n.test1()"
   ]
  },
  {
   "cell_type": "code",
   "execution_count": 96,
   "id": "8b2f77de",
   "metadata": {},
   "outputs": [
    {
     "name": "stdout",
     "output_type": "stream",
     "text": [
      "enter first number \n",
      "invalid literal for int() with base 10: ''\n"
     ]
    }
   ],
   "source": [
    "class division_by_5 (Exception):\n",
    "    def __init__ (self,msg):\n",
    "        self.msg = msg\n",
    "try:\n",
    "    a= int(input(\"enter first number \"))\n",
    "    b= int(input(\"enter second number \"))\n",
    "    a/b\n",
    "    if b == 5:\n",
    "        raise division_by_5(\"division by 5 error\")\n",
    "except ValueError as msg:\n",
    "        print(msg)\n",
    "except ZeroDivisionError as msg:\n",
    "        print(msg)\n",
    "except division_by_5 as msg:\n",
    "         print(msg)\n",
    "else:\n",
    "    try :\n",
    "        \n",
    "        result = a/b\n",
    "        print(result)\n",
    "        \n",
    "    except Exception as e :\n",
    "        print(e)"
   ]
  },
  {
   "cell_type": "code",
   "execution_count": 97,
   "id": "11ae37ae",
   "metadata": {},
   "outputs": [
    {
     "name": "stdout",
     "output_type": "stream",
     "text": [
      "Inside test1..\n",
      "Inside test2..\n",
      "Inside test3..\n"
     ]
    }
   ],
   "source": [
    "#multilevel\n",
    "\n",
    "class test1:\n",
    "    def a(self) :\n",
    "        print('Inside test1..')\n",
    "        \n",
    "class test2(test1):\n",
    "    def b(self) :\n",
    "        print('Inside test2..')\n",
    "    \n",
    "class test3(test2):\n",
    "    def c(self):\n",
    "        print('Inside test3..')\n",
    "        \n",
    "t = test3()\n",
    "t.a()\n",
    "t.b()\n",
    "t.c()"
   ]
  },
  {
   "cell_type": "code",
   "execution_count": 98,
   "id": "b48698eb",
   "metadata": {},
   "outputs": [
    {
     "name": "stdout",
     "output_type": "stream",
     "text": [
      "Name:  Prem Salary: 8000\n",
      "Prem is working on NLP\n"
     ]
    }
   ],
   "source": [
    "class Employee:\n",
    "    def __init__(self, name, salary, project):\n",
    "        self.name = name\n",
    "        self.salary = salary\n",
    "        self.project = project\n",
    "    def show(self):\n",
    "  \n",
    "        print(\"Name: \", self.name, 'Salary:', self.salary)\n",
    "    def work(self):\n",
    "        print(self.name, 'is working on', self.project)\n",
    "\n",
    "emp = Employee('Prem', 8000, 'NLP')\n",
    "\n",
    "emp.show()\n",
    "emp.work()"
   ]
  },
  {
   "cell_type": "code",
   "execution_count": 99,
   "id": "3cb19e3f",
   "metadata": {},
   "outputs": [],
   "source": [
    "class class1:\n",
    "    \n",
    "    def __init__(self,a,b,c):\n",
    "        self.a = a\n",
    "        self.b = b\n",
    "        self.c = c\n",
    "        \n",
    "    def test(self):\n",
    "        print('thia is meth of class class1')\n",
    "        \n",
    "class class2:\n",
    "    \n",
    "    def __init__(self,p,q,v):\n",
    "        self.p = p\n",
    "        self.v = v\n",
    "        self.q = q\n",
    "        \n",
    "    def test1(self):\n",
    "        print('this is meth of class class2')\n",
    "        \n",
    "class child(class1,class2):\n",
    "    def __init__(self, *args,**kwargs):\n",
    "        class1.__init__(self,*args)\n",
    "        class2.__init__(self, **kwargs)"
   ]
  },
  {
   "cell_type": "code",
   "execution_count": 100,
   "id": "ab592f3a",
   "metadata": {},
   "outputs": [
    {
     "name": "stdout",
     "output_type": "stream",
     "text": [
      "test1..\n",
      "test2..\n"
     ]
    }
   ],
   "source": [
    "#polymorphism\n",
    "\n",
    "class test1:\n",
    "    def a(self) :\n",
    "        return \"test1..\"\n",
    "        \n",
    "class test2:\n",
    "    def a(self) :\n",
    "        return \"test2..\"\n",
    "    \n",
    "def poly(obj):\n",
    "    print(obj.a())\n",
    "    \n",
    "t1 = test1()\n",
    "t2 = test2()\n",
    "\n",
    "poly(t1)\n",
    "poly(t2)"
   ]
  },
  {
   "cell_type": "code",
   "execution_count": 101,
   "id": "79dacc7a",
   "metadata": {},
   "outputs": [],
   "source": [
    "class apple:\n",
    "    def devices(self):\n",
    "        print(\"Iphone, Imac, airpods\")\n",
    "        \n",
    "        \n",
    "class mi(apple):\n",
    "    def devices(self):\n",
    "        print(\"Flagship Mobile, laptop\")\n",
    "        \n",
    "\n",
    "class dell(mi):\n",
    "    def devices(self):\n",
    "        print(\"Flagship laptops\")"
   ]
  },
  {
   "cell_type": "code",
   "execution_count": 102,
   "id": "bfc7b102",
   "metadata": {},
   "outputs": [],
   "source": [
    "class parent1:\n",
    "    def __init__(self , a,b):\n",
    "        self.a = a\n",
    "        self.b = b\n",
    "        \n",
    "    def test_x(self):\n",
    "        print('this is a method inside parent_1 class')\n",
    "class parent2:\n",
    "    def __init__(self , c,d):\n",
    "        self.c = c\n",
    "        self.d = d\n",
    "        \n",
    "    def test_y(self):\n",
    "        print('this is amethod inside parent_2 class')\n",
    "        \n",
    "class child1(parent1 , parent2):\n",
    "     def __init__(self ,*args , **kwargs):\n",
    "        parent1.__init__(self,*args)\n",
    "        parent2.__init__(self,**kwargs)\n",
    "        \n",
    "     def test_z(self):\n",
    "        print('this is a method inside child_1 class')\n",
    "        \n",
    "class child2(child1):\n",
    "    \n",
    "    def test_1(self):\n",
    "        print('this is a method inside child_2 class')"
   ]
  },
  {
   "cell_type": "code",
   "execution_count": 103,
   "id": "1a5ec06d",
   "metadata": {},
   "outputs": [],
   "source": [
    "class class1:\n",
    "    \n",
    "    def __init__(self,a,b,c):\n",
    "        self.a = a\n",
    "        self.b = b\n",
    "        self.c = c\n",
    "        \n",
    "    def test(self):\n",
    "        print('thia is meth of class1 clas')\n",
    "        \n",
    "class class2(class1):\n",
    "    \n",
    "    def test1(self):\n",
    "        print('this is a meth from class class2')\n",
    "        \n",
    "class class3(class2):\n",
    "        \n",
    "    def test2(self):\n",
    "        print('this is method of class class3')"
   ]
  },
  {
   "cell_type": "code",
   "execution_count": 104,
   "id": "765d0910",
   "metadata": {},
   "outputs": [],
   "source": [
    "# 1 Mutiple\n",
    "class operation1:\n",
    "    def __init__(self, a, b, c):\n",
    "        self.a = a\n",
    "        self.b = b\n",
    "        self.c = c\n",
    "        \n",
    "    def add(self):\n",
    "        return (self.a + self.b + self.c)\n",
    "        \n",
    "    def desc(self):\n",
    "        print(\"For Addition\")\n",
    "        \n",
    "class operation2:\n",
    "    def __init__(self, x, y, z):\n",
    "        self.x = x\n",
    "        self.y = y\n",
    "        self.z = z\n",
    "        \n",
    "    def multiply(self):\n",
    "        return (self.x * self.y * self.z)\n",
    "        \n",
    "    def desc(self):\n",
    "        print(\"For Multiplication\")\n",
    "        \n",
    "        \n",
    "class operation(operation1, operation2):\n",
    "    def __init__(self, *args, **kwargs):\n",
    "        operation1.__init__(self, *args)\n",
    "        operation2.__init__(self, **kwargs)"
   ]
  },
  {
   "cell_type": "code",
   "execution_count": 105,
   "id": "581fe1ce",
   "metadata": {},
   "outputs": [],
   "source": [
    "class Phones:\n",
    "    def __init__(self , brand , model , price ) -> None:\n",
    "        self.brand = brand \n",
    "        self.model = model \n",
    "        self.price = price \n",
    "\n",
    "    def specs(self) :\n",
    "        return f'\\nThe brand of phone is {self.brand} and the price is {self.price} \\n'\n",
    "\n",
    "    def typeofphone(self) :\n",
    "        if self.price < 25000 :\n",
    "            return 'This is a budget phone '\n",
    "        else :\n",
    "            return 'This is a midrange phone '\n",
    "\n",
    "\n",
    "class SmartPhone(Phones) :\n",
    "    def __init__(self, brand,model, price , ram , storage  ) -> None:\n",
    "        super().__init__(brand, model, price)\n",
    "        self.ram = ram \n",
    "        self.storage = storage \n",
    "\n",
    "class FlagshipPhones(SmartPhone):\n",
    "    def __init__(self, brand, model, price, ram, storage , frontcamera , backcamera , display) -> None:\n",
    "        super().__init__(brand, model, price, ram, storage)\n",
    "        self.frontcamera = frontcamera\n",
    "        self.backcamera = backcamera    \n",
    "        self.display = display"
   ]
  },
  {
   "cell_type": "code",
   "execution_count": 106,
   "id": "392a29ef",
   "metadata": {},
   "outputs": [
    {
     "name": "stdout",
     "output_type": "stream",
     "text": [
      "Meows\n",
      "I have a spinal cord\n",
      "Woof\n",
      "I have a spinal cord\n"
     ]
    }
   ],
   "source": [
    "#1.create your own class to achieve multiple and multilevel inheritance\n",
    "\n",
    "class Vertebrates:\n",
    "    def printmsg(self):\n",
    "        print(\"I have a spinal cord\")\n",
    "\n",
    "        \n",
    "class Animal:\n",
    "    def makeSound(self):\n",
    "        print(\"make sound\")\n",
    "        \n",
    "class Dog(Animal,Vertebrates):\n",
    "     def makeSound(self):\n",
    "        print(\"Woof\")\n",
    "                \n",
    "class Labrador(Dog):\n",
    "     pass\n",
    "    \n",
    "\n",
    "class Cat(Animal,Vertebrates):\n",
    "     def makeSound(self):\n",
    "        print(\"Meows\")\n",
    "\n",
    "        \n",
    "c =Cat()\n",
    "c.makeSound()\n",
    "c.printmsg()\n",
    "\n",
    "l=Labrador()\n",
    "l.makeSound()\n",
    "l.printmsg()"
   ]
  },
  {
   "cell_type": "code",
   "execution_count": 107,
   "id": "4bdcf638",
   "metadata": {},
   "outputs": [
    {
     "name": "stdout",
     "output_type": "stream",
     "text": [
      "there are many types of bird\n",
      "sparrows can fly\n",
      "there are many types of bird\n",
      "Ostrich cannot fly\n"
     ]
    }
   ],
   "source": [
    "class bird:\n",
    "    def intro(self):\n",
    "        print(\"there are many types of bird\")\n",
    "    def flight(self):\n",
    "        print(\"Most birds can fly but few cannot\")\n",
    "        \n",
    "class sparrow(bird):\n",
    "    def flight(self):\n",
    "        print(\"sparrows can fly\")\n",
    "        \n",
    "class ostrich(bird):\n",
    "    def flight(self):\n",
    "        print(\"Ostrich cannot fly\")\n",
    "        \n",
    "titli=sparrow()\n",
    "kitty=ostrich()\n",
    "\n",
    "list=[titli,kitty]\n",
    "for birds in list:\n",
    "    birds.intro()\n",
    "    birds.flight()"
   ]
  },
  {
   "cell_type": "code",
   "execution_count": 108,
   "id": "9e766a9a",
   "metadata": {},
   "outputs": [
    {
     "name": "stdout",
     "output_type": "stream",
     "text": [
      "\n",
      "School Name:  ABC\n",
      "Task Multiplication:  6\n",
      "Task Addition:  8\n",
      "Subject: Science\n",
      "Chapter 1: Life on Earth\n"
     ]
    }
   ],
   "source": [
    "class school(Exception): \n",
    "    #Static Variable\n",
    "    schoolName=\"\"\n",
    "    def science(self, schoolName):\n",
    "        print(\"School Name: \", schoolName)\n",
    "        \n",
    "    def math(self, x, y):\n",
    "        #x and y are Instance Variable, cannot access w/o creating an object\n",
    "        self.x=x\n",
    "        self._y=y\n",
    "        print(\"Task Multiplication: \", x*y)\n",
    "              \n",
    "try:\n",
    "    raise(school())\n",
    "except school as s:\n",
    "    print(s)\n",
    "    \n",
    "class subject(school):\n",
    "    def math(self, x, y):\n",
    "        print(\"Task Addition: \", x+y)\n",
    "        \n",
    "    def science(self):\n",
    "        print(\"Subject: Science\")\n",
    "        \n",
    "class chapter(subject):\n",
    "    def chapterOne(self):\n",
    "        print(\"Chapter 1: Life on Earth\")\n",
    "        \n",
    "s= school()\n",
    "u= subject()\n",
    "c= chapter()\n",
    "\n",
    "s.science(\"ABC\")\n",
    "s.math(2,3)\n",
    "u.math(2,6)\n",
    "u.science()\n",
    "c.chapterOne()"
   ]
  },
  {
   "cell_type": "code",
   "execution_count": 109,
   "id": "c3a054c4",
   "metadata": {},
   "outputs": [],
   "source": [
    "class test:\n",
    "    def fun(self) :\n",
    "        print(\"this is my sample class \")\n",
    "        \n",
    "    def __str__(self):\n",
    "        return str(535635463566)"
   ]
  },
  {
   "cell_type": "code",
   "execution_count": 110,
   "id": "b2531d1a",
   "metadata": {},
   "outputs": [],
   "source": [
    "t = test()"
   ]
  },
  {
   "cell_type": "code",
   "execution_count": 111,
   "id": "79428ab5",
   "metadata": {},
   "outputs": [
    {
     "name": "stdout",
     "output_type": "stream",
     "text": [
      "535635463566\n"
     ]
    }
   ],
   "source": [
    "print(t)"
   ]
  },
  {
   "cell_type": "code",
   "execution_count": 112,
   "id": "4259f5fd",
   "metadata": {},
   "outputs": [],
   "source": [
    "#oveloading \n",
    "\n",
    "class test :\n",
    "    l = []\n",
    "    def __init__(self , b , c):\n",
    "        for i in range(6) :\n",
    "               l.append(int(input()))\n",
    "        self.l = l\n",
    "        self.b = b \n",
    "        self.c = c \n",
    "    def __str__(self) :\n",
    "        return \"fsfsafsdfsaf\""
   ]
  },
  {
   "cell_type": "code",
   "execution_count": 113,
   "id": "21792b53",
   "metadata": {},
   "outputs": [
    {
     "ename": "AttributeError",
     "evalue": "'Labrador' object has no attribute 'append'",
     "output_type": "error",
     "traceback": [
      "\u001b[1;31m---------------------------------------------------------------------------\u001b[0m",
      "\u001b[1;31mAttributeError\u001b[0m                            Traceback (most recent call last)",
      "Input \u001b[1;32mIn [113]\u001b[0m, in \u001b[0;36m<cell line: 1>\u001b[1;34m()\u001b[0m\n\u001b[1;32m----> 1\u001b[0m t \u001b[38;5;241m=\u001b[39m \u001b[43mtest\u001b[49m\u001b[43m(\u001b[49m\u001b[38;5;241;43m5\u001b[39;49m\u001b[43m,\u001b[49m\u001b[38;5;241;43m6\u001b[39;49m\u001b[43m)\u001b[49m\n",
      "Input \u001b[1;32mIn [112]\u001b[0m, in \u001b[0;36mtest.__init__\u001b[1;34m(self, b, c)\u001b[0m\n\u001b[0;32m      5\u001b[0m \u001b[38;5;28;01mdef\u001b[39;00m \u001b[38;5;21m__init__\u001b[39m(\u001b[38;5;28mself\u001b[39m , b , c):\n\u001b[0;32m      6\u001b[0m     \u001b[38;5;28;01mfor\u001b[39;00m i \u001b[38;5;129;01min\u001b[39;00m \u001b[38;5;28mrange\u001b[39m(\u001b[38;5;241m6\u001b[39m) :\n\u001b[1;32m----> 7\u001b[0m            \u001b[43ml\u001b[49m\u001b[38;5;241;43m.\u001b[39;49m\u001b[43mappend\u001b[49m(\u001b[38;5;28mint\u001b[39m(\u001b[38;5;28minput\u001b[39m()))\n\u001b[0;32m      8\u001b[0m     \u001b[38;5;28mself\u001b[39m\u001b[38;5;241m.\u001b[39ml \u001b[38;5;241m=\u001b[39m l\n\u001b[0;32m      9\u001b[0m     \u001b[38;5;28mself\u001b[39m\u001b[38;5;241m.\u001b[39mb \u001b[38;5;241m=\u001b[39m b \n",
      "\u001b[1;31mAttributeError\u001b[0m: 'Labrador' object has no attribute 'append'"
     ]
    }
   ],
   "source": [
    "t = test(5,6)"
   ]
  },
  {
   "cell_type": "code",
   "execution_count": 116,
   "id": "26a8e11b",
   "metadata": {},
   "outputs": [
    {
     "data": {
      "text/plain": [
       "<__main__.test at 0x28731dd7cd0>"
      ]
     },
     "execution_count": 116,
     "metadata": {},
     "output_type": "execute_result"
    }
   ],
   "source": [
    "t"
   ]
  },
  {
   "cell_type": "code",
   "execution_count": 115,
   "id": "22d03f12",
   "metadata": {},
   "outputs": [
    {
     "name": "stdout",
     "output_type": "stream",
     "text": [
      "535635463566\n"
     ]
    }
   ],
   "source": [
    "print(t)"
   ]
  },
  {
   "cell_type": "code",
   "execution_count": 117,
   "id": "71062e91",
   "metadata": {},
   "outputs": [
    {
     "name": "stdout",
     "output_type": "stream",
     "text": [
      "6\n",
      "6\n",
      "7\n",
      "4\n",
      "3\n",
      "2\n"
     ]
    }
   ],
   "source": [
    "l = []\n",
    "for i in range(6) :\n",
    "       l.append(int(input()))"
   ]
  },
  {
   "cell_type": "code",
   "execution_count": 118,
   "id": "31f046df",
   "metadata": {},
   "outputs": [
    {
     "data": {
      "text/plain": [
       "[6, 6, 7, 4, 3, 2]"
      ]
     },
     "execution_count": 118,
     "metadata": {},
     "output_type": "execute_result"
    }
   ],
   "source": [
    "l"
   ]
  },
  {
   "cell_type": "code",
   "execution_count": 119,
   "id": "bc153f40",
   "metadata": {},
   "outputs": [],
   "source": [
    "#oveloading \n",
    "\n",
    "class test :\n",
    "    l = []\n",
    "    def __init__(self , b , c):\n",
    "        for i in range(6) :\n",
    "               l.append(int(input()))\n",
    "        self.l = l\n",
    "        self.b = b \n",
    "        self.c = c \n",
    "    def __str__(self) :\n",
    "        return \"fsfsafsdfsaf\""
   ]
  },
  {
   "cell_type": "code",
   "execution_count": 120,
   "id": "5947775d",
   "metadata": {},
   "outputs": [
    {
     "name": "stdout",
     "output_type": "stream",
     "text": [
      "5\n",
      "5\n",
      "8\n",
      "8\n",
      "2\n",
      "1\n"
     ]
    }
   ],
   "source": [
    "t = test(5,6)"
   ]
  },
  {
   "cell_type": "code",
   "execution_count": 121,
   "id": "73bbd975",
   "metadata": {},
   "outputs": [
    {
     "data": {
      "text/plain": [
       "[6, 6, 7, 4, 3, 2, 5, 5, 8, 8, 2, 1]"
      ]
     },
     "execution_count": 121,
     "metadata": {},
     "output_type": "execute_result"
    }
   ],
   "source": [
    "t.l"
   ]
  },
  {
   "cell_type": "code",
   "execution_count": 122,
   "id": "eb0435f5",
   "metadata": {},
   "outputs": [
    {
     "name": "stdout",
     "output_type": "stream",
     "text": [
      "fsfsafsdfsaf\n"
     ]
    }
   ],
   "source": [
    "print(t)"
   ]
  },
  {
   "cell_type": "code",
   "execution_count": 123,
   "id": "5bbd4e2f",
   "metadata": {},
   "outputs": [],
   "source": [
    "def xyz(*args) :\n",
    "    return args"
   ]
  },
  {
   "cell_type": "code",
   "execution_count": 124,
   "id": "a75f993d",
   "metadata": {},
   "outputs": [
    {
     "data": {
      "text/plain": [
       "(45, 5656, 56, 7, 67, 6, 7)"
      ]
     },
     "execution_count": 124,
     "metadata": {},
     "output_type": "execute_result"
    }
   ],
   "source": [
    "xyz(45,5656,56,7,67,6,7)"
   ]
  },
  {
   "cell_type": "code",
   "execution_count": 125,
   "id": "a725e2cc",
   "metadata": {},
   "outputs": [
    {
     "data": {
      "text/plain": [
       "('dfdfs', 'fdsfdsf', 'fdsf')"
      ]
     },
     "execution_count": 125,
     "metadata": {},
     "output_type": "execute_result"
    }
   ],
   "source": [
    "xyz(\"dfdfs\" ,\"fdsfdsf\" ,\"fdsf\")"
   ]
  },
  {
   "cell_type": "code",
   "execution_count": 126,
   "id": "7e0a666b",
   "metadata": {},
   "outputs": [],
   "source": [
    "#overriding \n",
    "\n",
    "class test :\n",
    "    def __init__(self, a , b , c):\n",
    "        self.a = a \n",
    "        self.b = b \n",
    "        self.c = c \n",
    "    def __str__(self) :\n",
    "        return \"fsfsafsdfsaf\"\n",
    "    \n",
    "    def class_fun(self) :\n",
    "        print(\"this is a print form class_fun\")\n",
    "    \n",
    "class test1(test):\n",
    "    def class_fun(self) :\n",
    "        print(\"fsdfdsfsfs dfdsf dsf sds\")"
   ]
  },
  {
   "cell_type": "code",
   "execution_count": 127,
   "id": "68c5c692",
   "metadata": {},
   "outputs": [],
   "source": [
    "test1_obj = test1(1,2,3)\n",
    "test_obj = test(4,5,6)"
   ]
  },
  {
   "cell_type": "code",
   "execution_count": 128,
   "id": "167b7170",
   "metadata": {},
   "outputs": [
    {
     "name": "stdout",
     "output_type": "stream",
     "text": [
      "fsdfdsfsfs dfdsf dsf sds\n"
     ]
    }
   ],
   "source": [
    "test1_obj.class_fun()"
   ]
  },
  {
   "cell_type": "code",
   "execution_count": 129,
   "id": "f141c360",
   "metadata": {},
   "outputs": [
    {
     "name": "stdout",
     "output_type": "stream",
     "text": [
      "this is a print form class_fun\n"
     ]
    }
   ],
   "source": [
    "test_obj.class_fun()"
   ]
  },
  {
   "cell_type": "code",
   "execution_count": 130,
   "id": "a80c12fb",
   "metadata": {},
   "outputs": [
    {
     "data": {
      "text/plain": [
       "' My Name is sandesh and Roll is  12 salary is 1200'"
      ]
     },
     "execution_count": 130,
     "metadata": {},
     "output_type": "execute_result"
    }
   ],
   "source": [
    "class A:\n",
    "    def __init__(self,name,roll):\n",
    "        self.name = name\n",
    "        self.roll = roll \n",
    "    def get(self):\n",
    "        return f\"{self.name} and {self.roll}\"\n",
    "\n",
    "class B(A):\n",
    "    def __init__(self,name,roll,salary):\n",
    "        self.salary = salary\n",
    "        A.__init__(self,name,roll)\n",
    "    def get(self):\n",
    "        return f\" My Name is {self.name} and Roll is  {self.roll} salary is {self.salary}\"\n",
    "    \n",
    "\n",
    "b = B('sandesh',12,1200)\n",
    "b.get()"
   ]
  },
  {
   "cell_type": "code",
   "execution_count": null,
   "id": "d1f5184b",
   "metadata": {},
   "outputs": [],
   "source": []
  }
 ],
 "metadata": {
  "kernelspec": {
   "display_name": "Python 3 (ipykernel)",
   "language": "python",
   "name": "python3"
  },
  "language_info": {
   "codemirror_mode": {
    "name": "ipython",
    "version": 3
   },
   "file_extension": ".py",
   "mimetype": "text/x-python",
   "name": "python",
   "nbconvert_exporter": "python",
   "pygments_lexer": "ipython3",
   "version": "3.9.12"
  }
 },
 "nbformat": 4,
 "nbformat_minor": 5
}
