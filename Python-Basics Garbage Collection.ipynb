{
 "cells": [
  {
   "cell_type": "code",
   "execution_count": 3,
   "id": "92bd1f0f",
   "metadata": {},
   "outputs": [],
   "source": [
    "b = 5"
   ]
  },
  {
   "cell_type": "code",
   "execution_count": 4,
   "id": "d5c5cd68",
   "metadata": {},
   "outputs": [],
   "source": [
    "b =9"
   ]
  },
  {
   "cell_type": "code",
   "execution_count": 5,
   "id": "a7a78a5f",
   "metadata": {},
   "outputs": [
    {
     "name": "stdout",
     "output_type": "stream",
     "text": [
      "9\n"
     ]
    }
   ],
   "source": [
    "print(b)"
   ]
  },
  {
   "cell_type": "code",
   "execution_count": 6,
   "id": "d311d4d5",
   "metadata": {},
   "outputs": [
    {
     "name": "stdout",
     "output_type": "stream",
     "text": [
      "1378744560176\n"
     ]
    }
   ],
   "source": [
    "print(id(b))"
   ]
  },
  {
   "cell_type": "markdown",
   "id": "3cfb2be8",
   "metadata": {},
   "source": [
    "# Automatic Garbage Collection"
   ]
  },
  {
   "cell_type": "code",
   "execution_count": 7,
   "id": "3d777d94",
   "metadata": {},
   "outputs": [
    {
     "name": "stdout",
     "output_type": "stream",
     "text": [
      "Garbage collection thresholds: (700, 10, 10)\n"
     ]
    }
   ],
   "source": [
    "# loading gc\n",
    "import gc\n",
    "print(\"Garbage collection thresholds:\",\n",
    "                    gc.get_threshold())"
   ]
  },
  {
   "cell_type": "markdown",
   "id": "60f05605",
   "metadata": {},
   "source": [
    "# Manual Garbage Collection"
   ]
  },
  {
   "cell_type": "code",
   "execution_count": 8,
   "id": "01a0d5d9",
   "metadata": {},
   "outputs": [
    {
     "name": "stdout",
     "output_type": "stream",
     "text": [
      "Garbage collector: collected 464 objects.\n"
     ]
    }
   ],
   "source": [
    "# Importing gc module\n",
    "import gc\n",
    " \n",
    "# Returns the number of\n",
    "# objects it has collected\n",
    "# and deallocated\n",
    "collected = gc.collect()\n",
    " \n",
    "# Prints Garbage collector\n",
    "# as 0 object\n",
    "print(\"Garbage collector: collected\",\n",
    "          \"%d objects.\" % collected)"
   ]
  },
  {
   "cell_type": "code",
   "execution_count": null,
   "id": "1efbc0a6",
   "metadata": {},
   "outputs": [],
   "source": []
  }
 ],
 "metadata": {
  "kernelspec": {
   "display_name": "Python 3 (ipykernel)",
   "language": "python",
   "name": "python3"
  },
  "language_info": {
   "codemirror_mode": {
    "name": "ipython",
    "version": 3
   },
   "file_extension": ".py",
   "mimetype": "text/x-python",
   "name": "python",
   "nbconvert_exporter": "python",
   "pygments_lexer": "ipython3",
   "version": "3.9.12"
  }
 },
 "nbformat": 4,
 "nbformat_minor": 5
}
