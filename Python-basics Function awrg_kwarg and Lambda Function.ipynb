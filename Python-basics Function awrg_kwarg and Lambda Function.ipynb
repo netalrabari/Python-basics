{
 "cells": [
  {
   "cell_type": "code",
   "execution_count": 1,
   "id": "a7b13476",
   "metadata": {},
   "outputs": [],
   "source": [
    "def add(a,b):\n",
    "    '''this function is for addition of three number\n",
    "    '''\n",
    "    return a+b\n",
    "def sub(a,b):\n",
    "    '''this function is for addition of three number\n",
    "    '''\n",
    "    return a-b\n",
    "def mul(a,b):\n",
    "    '''this function is for addition of three number\n",
    "    '''\n",
    "    return a*b\n",
    "def div(a,b):\n",
    "    '''this function is for addition of three number\n",
    "    '''\n",
    "    return a/b"
   ]
  },
  {
   "cell_type": "code",
   "execution_count": 2,
   "id": "409210e3",
   "metadata": {},
   "outputs": [
    {
     "data": {
      "text/plain": [
       "0.75"
      ]
     },
     "execution_count": 2,
     "metadata": {},
     "output_type": "execute_result"
    }
   ],
   "source": [
    "div(3,4)"
   ]
  },
  {
   "cell_type": "code",
   "execution_count": 3,
   "id": "f3fc079f",
   "metadata": {},
   "outputs": [],
   "source": [
    "def greet(name):\n",
    "    \"\"\"\n",
    "    This function greets to\n",
    "    the person passed in as\n",
    "    a parameter\n",
    "    \"\"\"\n",
    "    print(\"Hello, \" + name + \". Good morning!\")"
   ]
  },
  {
   "cell_type": "code",
   "execution_count": 4,
   "id": "5c4fac5a",
   "metadata": {},
   "outputs": [
    {
     "name": "stdout",
     "output_type": "stream",
     "text": [
      "Hello, Deval. Good morning!\n"
     ]
    }
   ],
   "source": [
    "greet('Deval')"
   ]
  },
  {
   "cell_type": "code",
   "execution_count": 5,
   "id": "4a72228a",
   "metadata": {},
   "outputs": [],
   "source": [
    "def test1(*args):\n",
    "    return args"
   ]
  },
  {
   "cell_type": "code",
   "execution_count": 6,
   "id": "281a4bd3",
   "metadata": {},
   "outputs": [
    {
     "data": {
      "text/plain": [
       "(42, 51, 75, 85, 91)"
      ]
     },
     "execution_count": 6,
     "metadata": {},
     "output_type": "execute_result"
    }
   ],
   "source": [
    "test1(42,51,75,85,91)"
   ]
  },
  {
   "cell_type": "code",
   "execution_count": 7,
   "id": "c87ddea2",
   "metadata": {},
   "outputs": [
    {
     "data": {
      "text/plain": [
       "(45, 34, 'mehul', 45.67, 'dixy')"
      ]
     },
     "execution_count": 7,
     "metadata": {},
     "output_type": "execute_result"
    }
   ],
   "source": [
    "test1(45,34,\"mehul\" , 45.67,\"dixy\")"
   ]
  },
  {
   "cell_type": "markdown",
   "id": "d56ce685",
   "metadata": {},
   "source": [
    "# awrg and kwarg"
   ]
  },
  {
   "cell_type": "code",
   "execution_count": 1,
   "id": "8ed1c7e3",
   "metadata": {},
   "outputs": [],
   "source": [
    "def test2(*Deval):\n",
    "    return Deval"
   ]
  },
  {
   "cell_type": "code",
   "execution_count": 2,
   "id": "b9df015a",
   "metadata": {},
   "outputs": [
    {
     "data": {
      "text/plain": [
       "('koiuyhg', 330, '456456', 330)"
      ]
     },
     "execution_count": 2,
     "metadata": {},
     "output_type": "execute_result"
    }
   ],
   "source": [
    "test2(\"koiuyhg\" ,330,\"456456\",330)"
   ]
  },
  {
   "cell_type": "code",
   "execution_count": 3,
   "id": "2b2cd45c",
   "metadata": {},
   "outputs": [],
   "source": [
    "def test3(*mehul , a):\n",
    "    return mehul , a"
   ]
  },
  {
   "cell_type": "code",
   "execution_count": 4,
   "id": "298096da",
   "metadata": {},
   "outputs": [
    {
     "data": {
      "text/plain": [
       "((34, 56, 767), 23)"
      ]
     },
     "execution_count": 4,
     "metadata": {},
     "output_type": "execute_result"
    }
   ],
   "source": [
    "test3(34,56,767, a =23)"
   ]
  },
  {
   "cell_type": "code",
   "execution_count": 5,
   "id": "9bc2bb0a",
   "metadata": {},
   "outputs": [],
   "source": [
    "def test4(*netal , a,b,c,d):\n",
    "    return netal , a,b,c,d"
   ]
  },
  {
   "cell_type": "code",
   "execution_count": 7,
   "id": "0b72c055",
   "metadata": {},
   "outputs": [
    {
     "data": {
      "text/plain": [
       "((320, 322, 630, 71), [3, 4, 6, 6, 3], [35000, 60, 60, 50], 'gthuj', 350.656)"
      ]
     },
     "execution_count": 7,
     "metadata": {},
     "output_type": "execute_result"
    }
   ],
   "source": [
    "test4(320,322,630,71 , a = [3,4,6,6,3] , b = [35000,60,60,50] , c= \"gthuj\" , d = 350.656)"
   ]
  },
  {
   "cell_type": "code",
   "execution_count": 8,
   "id": "4db5ccd2",
   "metadata": {},
   "outputs": [],
   "source": [
    "def test3( a , *xx):\n",
    "    return a , xx"
   ]
  },
  {
   "cell_type": "code",
   "execution_count": 9,
   "id": "fa443772",
   "metadata": {},
   "outputs": [
    {
     "data": {
      "text/plain": [
       "('awsed', (1234, 30, 45))"
      ]
     },
     "execution_count": 9,
     "metadata": {},
     "output_type": "execute_result"
    }
   ],
   "source": [
    "test3(\"awsed\" , 1234,30,45)"
   ]
  },
  {
   "cell_type": "code",
   "execution_count": 10,
   "id": "478156c6",
   "metadata": {},
   "outputs": [],
   "source": [
    "def test33(*netal, a):\n",
    "    return netal, a"
   ]
  },
  {
   "cell_type": "code",
   "execution_count": 11,
   "id": "2995319a",
   "metadata": {},
   "outputs": [
    {
     "data": {
      "text/plain": [
       "((54, 56), 'fsadf')"
      ]
     },
     "execution_count": 11,
     "metadata": {},
     "output_type": "execute_result"
    }
   ],
   "source": [
    "test33(54,56, a= \"fsadf\")"
   ]
  },
  {
   "cell_type": "code",
   "execution_count": 12,
   "id": "6265f85e",
   "metadata": {},
   "outputs": [],
   "source": [
    "def test5(a , *netal , b ,c ):\n",
    "    return a , netal,b,c"
   ]
  },
  {
   "cell_type": "code",
   "execution_count": 13,
   "id": "db3c7c3a",
   "metadata": {},
   "outputs": [
    {
     "data": {
      "text/plain": [
       "('sfds', ([2, 3, 4, 5], 45, 6, 56, 5, 6, 67, 6, 7), 6, 7)"
      ]
     },
     "execution_count": 13,
     "metadata": {},
     "output_type": "execute_result"
    }
   ],
   "source": [
    "test5(\"sfds\" , [2,3,4,5] , 45,6,56,5,6,67,6,7,b = 6,c = 7)"
   ]
  },
  {
   "cell_type": "code",
   "execution_count": 14,
   "id": "efda20ff",
   "metadata": {},
   "outputs": [],
   "source": [
    "def test6(*args):\n",
    "    l = []\n",
    "    for i in args:\n",
    "        if type(i) == int:\n",
    "            l.append(i)\n",
    "    return l"
   ]
  },
  {
   "cell_type": "code",
   "execution_count": 15,
   "id": "b2e80f92",
   "metadata": {},
   "outputs": [
    {
     "data": {
      "text/plain": [
       "[10, 15, 22, 35]"
      ]
     },
     "execution_count": 15,
     "metadata": {},
     "output_type": "execute_result"
    }
   ],
   "source": [
    "test6(10,15,22,35,[24,45,1,3,232323],[2,3,4,\"ni\"],[\"aa\",2,3,4])"
   ]
  },
  {
   "cell_type": "code",
   "execution_count": 16,
   "id": "c73a2e50",
   "metadata": {},
   "outputs": [
    {
     "data": {
      "text/plain": [
       "[220, 321, 45123, 258]"
      ]
     },
     "execution_count": 16,
     "metadata": {},
     "output_type": "execute_result"
    }
   ],
   "source": [
    "test6(220,321,45123,258, [3,303,41,78] ,  [145,9,965] , \"jgkh\")"
   ]
  },
  {
   "cell_type": "code",
   "execution_count": 17,
   "id": "93124e4b",
   "metadata": {},
   "outputs": [],
   "source": [
    "d = { \"a\" : [2,3,4,5,6] , 6  : [4,54,4,5,5,6]  }"
   ]
  },
  {
   "cell_type": "code",
   "execution_count": 20,
   "id": "116ec085",
   "metadata": {},
   "outputs": [
    {
     "data": {
      "text/plain": [
       "[2, 3, 4, 5, 6]"
      ]
     },
     "execution_count": 20,
     "metadata": {},
     "output_type": "execute_result"
    }
   ],
   "source": [
    "d[\"a\"]"
   ]
  },
  {
   "cell_type": "code",
   "execution_count": 21,
   "id": "a9b43288",
   "metadata": {},
   "outputs": [],
   "source": [
    "def test7(**kwargs):\n",
    "    return kwargs"
   ]
  },
  {
   "cell_type": "code",
   "execution_count": 22,
   "id": "fea918f3",
   "metadata": {},
   "outputs": [
    {
     "data": {
      "text/plain": [
       "{'a': 245, 'b': [16, 5, 45, 2, 2]}"
      ]
     },
     "execution_count": 22,
     "metadata": {},
     "output_type": "execute_result"
    }
   ],
   "source": [
    "test7(a = 245,b  = [16,5,45,2,2])"
   ]
  },
  {
   "cell_type": "code",
   "execution_count": 23,
   "id": "7c8f1f67",
   "metadata": {},
   "outputs": [],
   "source": [
    "def test8(**netal) :\n",
    "    return netal"
   ]
  },
  {
   "cell_type": "code",
   "execution_count": 24,
   "id": "5d1a0e3e",
   "metadata": {},
   "outputs": [
    {
     "data": {
      "text/plain": [
       "{'b': 789, 'g': 258, 'f': [562, 145, 56, 54, 25, 87]}"
      ]
     },
     "execution_count": 24,
     "metadata": {},
     "output_type": "execute_result"
    }
   ],
   "source": [
    "test8(b = 789 , g = 258, f = [562,145,56,54,25,87])"
   ]
  },
  {
   "cell_type": "code",
   "execution_count": 26,
   "id": "338badf4",
   "metadata": {},
   "outputs": [],
   "source": [
    "def test9(**netal) :\n",
    "    return netal"
   ]
  },
  {
   "cell_type": "code",
   "execution_count": 27,
   "id": "99909c21",
   "metadata": {},
   "outputs": [
    {
     "data": {
      "text/plain": [
       "{'name': 'netal',\n",
       " 'age': '28',\n",
       " 'phone_number': '1458',\n",
       " 'mail_id': 'mkldkfj@kjiu.com'}"
      ]
     },
     "execution_count": 27,
     "metadata": {},
     "output_type": "execute_result"
    }
   ],
   "source": [
    "test9(name = \"netal\"  , age  = \"28\" , phone_number = \"1458\" , mail_id = \"mkldkfj@kjiu.com\")"
   ]
  },
  {
   "cell_type": "code",
   "execution_count": 28,
   "id": "e7256c3a",
   "metadata": {},
   "outputs": [],
   "source": [
    "def test10(a, **netal):\n",
    "    return netal , a"
   ]
  },
  {
   "cell_type": "code",
   "execution_count": 29,
   "id": "c2601322",
   "metadata": {},
   "outputs": [
    {
     "data": {
      "text/plain": [
       "({'t': 52, 'b': 77, 'c': 8, 'd': 9, 'e': 35}, 56)"
      ]
     },
     "execution_count": 29,
     "metadata": {},
     "output_type": "execute_result"
    }
   ],
   "source": [
    "test10(56,t = 52,b = 77,c = 8,d = 9,e = 35)"
   ]
  },
  {
   "cell_type": "code",
   "execution_count": 43,
   "id": "ab9fbe56",
   "metadata": {},
   "outputs": [],
   "source": [
    "def test11(a , *args, **kwargs) :\n",
    "    return a , args, kwargs"
   ]
  },
  {
   "cell_type": "code",
   "execution_count": 44,
   "id": "9b468f11",
   "metadata": {},
   "outputs": [
    {
     "data": {
      "text/plain": [
       "(52, (40, 78, 5, 4, 23, 4, 2, 36), {'g': 4512, 'l': 16})"
      ]
     },
     "execution_count": 44,
     "metadata": {},
     "output_type": "execute_result"
    }
   ],
   "source": [
    "test11(52,40,78,5,4,23,4,2,36, g = 4512,l=16)"
   ]
  },
  {
   "cell_type": "code",
   "execution_count": 45,
   "id": "9129046e",
   "metadata": {},
   "outputs": [],
   "source": [
    "def test12(a,b):\n",
    "    return a*b"
   ]
  },
  {
   "cell_type": "code",
   "execution_count": 46,
   "id": "2d57d899",
   "metadata": {},
   "outputs": [
    {
     "data": {
      "text/plain": [
       "3015"
      ]
     },
     "execution_count": 46,
     "metadata": {},
     "output_type": "execute_result"
    }
   ],
   "source": [
    "test12(45,67)"
   ]
  },
  {
   "cell_type": "code",
   "execution_count": 47,
   "id": "df8d4a1b",
   "metadata": {},
   "outputs": [],
   "source": [
    "def test50(*hh):\n",
    "    return hh"
   ]
  },
  {
   "cell_type": "code",
   "execution_count": 49,
   "id": "57e76fd0",
   "metadata": {},
   "outputs": [
    {
     "data": {
      "text/plain": [
       "(3, 4, 5, [7, 8], (7, 8))"
      ]
     },
     "execution_count": 49,
     "metadata": {},
     "output_type": "execute_result"
    }
   ],
   "source": [
    "test50(3,4,5,[7,8],(7,8))"
   ]
  },
  {
   "cell_type": "markdown",
   "id": "2c4554fc",
   "metadata": {},
   "source": [
    "# Lambda Function"
   ]
  },
  {
   "cell_type": "code",
   "execution_count": 50,
   "id": "d808e553",
   "metadata": {},
   "outputs": [],
   "source": [
    "x = lambda a ,b :(a*b  , a+b )"
   ]
  },
  {
   "cell_type": "code",
   "execution_count": 51,
   "id": "9e019f01",
   "metadata": {},
   "outputs": [
    {
     "data": {
      "text/plain": [
       "(3015, 112)"
      ]
     },
     "execution_count": 51,
     "metadata": {},
     "output_type": "execute_result"
    }
   ],
   "source": [
    "x(45,67)"
   ]
  },
  {
   "cell_type": "code",
   "execution_count": 52,
   "id": "e2c2527d",
   "metadata": {},
   "outputs": [],
   "source": [
    "h = lambda *hh :hh"
   ]
  },
  {
   "cell_type": "code",
   "execution_count": 53,
   "id": "84ababb0",
   "metadata": {},
   "outputs": [
    {
     "data": {
      "text/plain": [
       "(4, 5, 6, [6, 7], (6, 7))"
      ]
     },
     "execution_count": 53,
     "metadata": {},
     "output_type": "execute_result"
    }
   ],
   "source": [
    "h(4,5,6,[6,7],(6,7))"
   ]
  },
  {
   "cell_type": "code",
   "execution_count": 56,
   "id": "57a28686",
   "metadata": {},
   "outputs": [],
   "source": [
    "x=lambda a:a*a"
   ]
  },
  {
   "cell_type": "code",
   "execution_count": 58,
   "id": "7f970a92",
   "metadata": {},
   "outputs": [
    {
     "data": {
      "text/plain": [
       "16"
      ]
     },
     "execution_count": 58,
     "metadata": {},
     "output_type": "execute_result"
    }
   ],
   "source": [
    "x(4)"
   ]
  },
  {
   "cell_type": "code",
   "execution_count": 61,
   "id": "81d209fe",
   "metadata": {},
   "outputs": [],
   "source": [
    "v = lambda i : i**2"
   ]
  },
  {
   "cell_type": "code",
   "execution_count": 63,
   "id": "1f4b8aca",
   "metadata": {},
   "outputs": [
    {
     "data": {
      "text/plain": [
       "25"
      ]
     },
     "execution_count": 63,
     "metadata": {},
     "output_type": "execute_result"
    }
   ],
   "source": [
    "v(5)"
   ]
  },
  {
   "cell_type": "code",
   "execution_count": 64,
   "id": "61a31625",
   "metadata": {},
   "outputs": [],
   "source": [
    "a=lambda a,b :(a*b,a+b)"
   ]
  },
  {
   "cell_type": "code",
   "execution_count": 65,
   "id": "a8c6ad58",
   "metadata": {},
   "outputs": [
    {
     "data": {
      "text/plain": [
       "(42, 13)"
      ]
     },
     "execution_count": 65,
     "metadata": {},
     "output_type": "execute_result"
    }
   ],
   "source": [
    "a(6,7)"
   ]
  },
  {
   "cell_type": "code",
   "execution_count": 73,
   "id": "55138ee7",
   "metadata": {},
   "outputs": [],
   "source": [
    "x = lambda x :[ i for i in x ]"
   ]
  },
  {
   "cell_type": "code",
   "execution_count": 74,
   "id": "008df1d3",
   "metadata": {},
   "outputs": [
    {
     "data": {
      "text/plain": [
       "[1, 2, 5, 5]"
      ]
     },
     "execution_count": 74,
     "metadata": {},
     "output_type": "execute_result"
    }
   ],
   "source": [
    "x([1,2,5,5])"
   ]
  },
  {
   "cell_type": "code",
   "execution_count": 75,
   "id": "84ee5c8e",
   "metadata": {},
   "outputs": [],
   "source": [
    "l = [4,5,6,7,7,8]"
   ]
  },
  {
   "cell_type": "code",
   "execution_count": 76,
   "id": "3a6d0518",
   "metadata": {},
   "outputs": [],
   "source": [
    "l1 = []\n",
    "for i in l :\n",
    "    l1.append(i)"
   ]
  },
  {
   "cell_type": "code",
   "execution_count": 77,
   "id": "ae07d253",
   "metadata": {},
   "outputs": [
    {
     "data": {
      "text/plain": [
       "[4, 5, 6, 7, 7, 8]"
      ]
     },
     "execution_count": 77,
     "metadata": {},
     "output_type": "execute_result"
    }
   ],
   "source": [
    "l1"
   ]
  },
  {
   "cell_type": "code",
   "execution_count": 78,
   "id": "d2f30318",
   "metadata": {},
   "outputs": [
    {
     "data": {
      "text/plain": [
       "[4, 5, 6, 7, 7, 8]"
      ]
     },
     "execution_count": 78,
     "metadata": {},
     "output_type": "execute_result"
    }
   ],
   "source": [
    "[i for i in l]"
   ]
  },
  {
   "cell_type": "code",
   "execution_count": 79,
   "id": "d4c42840",
   "metadata": {},
   "outputs": [],
   "source": [
    "x = lambda x :[ i for i in x ]"
   ]
  },
  {
   "cell_type": "code",
   "execution_count": 80,
   "id": "195c39cc",
   "metadata": {},
   "outputs": [
    {
     "data": {
      "text/plain": [
       "[25, 235, 16, 46, 2]"
      ]
     },
     "execution_count": 80,
     "metadata": {},
     "output_type": "execute_result"
    }
   ],
   "source": [
    "x([25,235,16,46,2])"
   ]
  },
  {
   "cell_type": "code",
   "execution_count": 81,
   "id": "ec274025",
   "metadata": {},
   "outputs": [],
   "source": [
    "a = lambda **kwargs : kwargs"
   ]
  },
  {
   "cell_type": "code",
   "execution_count": 82,
   "id": "d6a1a53b",
   "metadata": {},
   "outputs": [
    {
     "data": {
      "text/plain": [
       "{'a': 23, 'b': 89}"
      ]
     },
     "execution_count": 82,
     "metadata": {},
     "output_type": "execute_result"
    }
   ],
   "source": [
    "a(a  = 23, b = 89)"
   ]
  },
  {
   "cell_type": "code",
   "execution_count": 87,
   "id": "a97e81ef",
   "metadata": {},
   "outputs": [],
   "source": [
    "c = 10 \n",
    "def test13(c , d ):\n",
    "    c = 5\n",
    "    return c*d"
   ]
  },
  {
   "cell_type": "code",
   "execution_count": 88,
   "id": "1e7d7244",
   "metadata": {},
   "outputs": [
    {
     "data": {
      "text/plain": [
       "200"
      ]
     },
     "execution_count": 88,
     "metadata": {},
     "output_type": "execute_result"
    }
   ],
   "source": [
    "test13(20,40)"
   ]
  },
  {
   "cell_type": "code",
   "execution_count": 89,
   "id": "a52bcb54",
   "metadata": {},
   "outputs": [
    {
     "data": {
      "text/plain": [
       "10"
      ]
     },
     "execution_count": 89,
     "metadata": {},
     "output_type": "execute_result"
    }
   ],
   "source": [
    "c"
   ]
  },
  {
   "cell_type": "code",
   "execution_count": 92,
   "id": "7fe512d6",
   "metadata": {},
   "outputs": [],
   "source": [
    "l = [1,2,3,4,20,23,9,44,9]\n",
    "l1 = []\n",
    "for i in l :\n",
    "    l1.append(i+2)"
   ]
  },
  {
   "cell_type": "code",
   "execution_count": 93,
   "id": "7a22eebc",
   "metadata": {},
   "outputs": [
    {
     "data": {
      "text/plain": [
       "[3, 4, 5, 6, 22, 25, 11, 46, 11]"
      ]
     },
     "execution_count": 93,
     "metadata": {},
     "output_type": "execute_result"
    }
   ],
   "source": [
    "l1"
   ]
  },
  {
   "cell_type": "code",
   "execution_count": 95,
   "id": "4e4cfd3c",
   "metadata": {},
   "outputs": [],
   "source": [
    "def test14(a) :\n",
    "    l1 = []\n",
    "    for i in a :\n",
    "        l1.append(i+2)\n",
    "    return l1"
   ]
  },
  {
   "cell_type": "code",
   "execution_count": 96,
   "id": "7f8b4c0d",
   "metadata": {},
   "outputs": [
    {
     "data": {
      "text/plain": [
       "[3, 4, 5, 6, 22, 25, 11, 46, 11]"
      ]
     },
     "execution_count": 96,
     "metadata": {},
     "output_type": "execute_result"
    }
   ],
   "source": [
    "test14(l)"
   ]
  },
  {
   "cell_type": "code",
   "execution_count": 97,
   "id": "d0b697e1",
   "metadata": {},
   "outputs": [],
   "source": [
    "a = lambda a : [i+2 for i in a ]"
   ]
  },
  {
   "cell_type": "code",
   "execution_count": 98,
   "id": "5f42df2e",
   "metadata": {},
   "outputs": [
    {
     "data": {
      "text/plain": [
       "[3, 4, 5, 6, 22, 25, 11, 46, 11]"
      ]
     },
     "execution_count": 98,
     "metadata": {},
     "output_type": "execute_result"
    }
   ],
   "source": [
    "a(l)"
   ]
  },
  {
   "cell_type": "code",
   "execution_count": 99,
   "id": "08792735",
   "metadata": {},
   "outputs": [
    {
     "data": {
      "text/plain": [
       "[1, 2, 3, 4, 20, 23, 9, 44, 9]"
      ]
     },
     "execution_count": 99,
     "metadata": {},
     "output_type": "execute_result"
    }
   ],
   "source": [
    "l"
   ]
  },
  {
   "cell_type": "code",
   "execution_count": 100,
   "id": "8369f012",
   "metadata": {},
   "outputs": [
    {
     "data": {
      "text/plain": [
       "[(4, 4), (9, 6)]"
      ]
     },
     "execution_count": 100,
     "metadata": {},
     "output_type": "execute_result"
    }
   ],
   "source": [
    "[(i**2,i+i) for i in l if i< 4 if i>1]"
   ]
  },
  {
   "cell_type": "code",
   "execution_count": 101,
   "id": "63f12a94",
   "metadata": {},
   "outputs": [],
   "source": [
    "l1 = []\n",
    "for i in l :\n",
    "    if i < 4 :\n",
    "         l1.append((i**2 , i+i) )"
   ]
  },
  {
   "cell_type": "code",
   "execution_count": 102,
   "id": "31fb6961",
   "metadata": {},
   "outputs": [
    {
     "data": {
      "text/plain": [
       "[(1, 2), (4, 4), (9, 6)]"
      ]
     },
     "execution_count": 102,
     "metadata": {},
     "output_type": "execute_result"
    }
   ],
   "source": [
    "l1"
   ]
  },
  {
   "cell_type": "code",
   "execution_count": 103,
   "id": "2a75bcdf",
   "metadata": {},
   "outputs": [],
   "source": [
    "d = {1:1 , 2 :4 , 3:9}"
   ]
  },
  {
   "cell_type": "code",
   "execution_count": 104,
   "id": "9a98821e",
   "metadata": {},
   "outputs": [
    {
     "data": {
      "text/plain": [
       "{0: 0, 1: 1, 2: 4, 3: 9, 4: 16, 5: 25, 6: 36, 7: 49, 8: 64, 9: 81}"
      ]
     },
     "execution_count": 104,
     "metadata": {},
     "output_type": "execute_result"
    }
   ],
   "source": [
    "{i:i**2 for i in range(10)}"
   ]
  },
  {
   "cell_type": "code",
   "execution_count": 105,
   "id": "c1acd585",
   "metadata": {},
   "outputs": [],
   "source": [
    "d1 = {}\n",
    "for i in range(10) : \n",
    "    d1[i] = i**2"
   ]
  },
  {
   "cell_type": "code",
   "execution_count": 106,
   "id": "5a5730ab",
   "metadata": {},
   "outputs": [
    {
     "data": {
      "text/plain": [
       "{0: 0, 1: 1, 2: 4, 3: 9, 4: 16, 5: 25, 6: 36, 7: 49, 8: 64, 9: 81}"
      ]
     },
     "execution_count": 106,
     "metadata": {},
     "output_type": "execute_result"
    }
   ],
   "source": [
    "d1"
   ]
  },
  {
   "cell_type": "code",
   "execution_count": 108,
   "id": "6ca41467",
   "metadata": {},
   "outputs": [
    {
     "data": {
      "text/plain": [
       "(0, 1, 2, 3, 4, 5, 6, 7, 8, 9)"
      ]
     },
     "execution_count": 108,
     "metadata": {},
     "output_type": "execute_result"
    }
   ],
   "source": [
    "tuple(i for i in range(10))"
   ]
  },
  {
   "cell_type": "code",
   "execution_count": 139,
   "id": "2b72305c",
   "metadata": {},
   "outputs": [
    {
     "name": "stdout",
     "output_type": "stream",
     "text": [
      "n\n",
      "e\n",
      "t\n",
      "a\n",
      "l\n"
     ]
    }
   ],
   "source": [
    "s = \"netal\"\n",
    "for i in s :\n",
    "    print(i)"
   ]
  },
  {
   "cell_type": "code",
   "execution_count": 140,
   "id": "2b971499",
   "metadata": {},
   "outputs": [
    {
     "data": {
      "text/plain": [
       "'netal'"
      ]
     },
     "execution_count": 140,
     "metadata": {},
     "output_type": "execute_result"
    }
   ],
   "source": [
    "s"
   ]
  },
  {
   "cell_type": "code",
   "execution_count": 141,
   "id": "504ac969",
   "metadata": {},
   "outputs": [
    {
     "name": "stdout",
     "output_type": "stream",
     "text": [
      "m\n",
      "k\n",
      "j\n",
      "f\n",
      "h\n",
      "g\n"
     ]
    }
   ],
   "source": [
    "s = \"mkjfhg\"\n",
    "for i in s :\n",
    "    print(i)"
   ]
  },
  {
   "cell_type": "code",
   "execution_count": 142,
   "id": "36e479b6",
   "metadata": {},
   "outputs": [],
   "source": [
    "l = [2,5,7,9,9]"
   ]
  },
  {
   "cell_type": "code",
   "execution_count": 143,
   "id": "5b0e650b",
   "metadata": {},
   "outputs": [
    {
     "data": {
      "text/plain": [
       "[2, 5, 7, 9, 9]"
      ]
     },
     "execution_count": 143,
     "metadata": {},
     "output_type": "execute_result"
    }
   ],
   "source": [
    "l"
   ]
  },
  {
   "cell_type": "code",
   "execution_count": 144,
   "id": "76e6ad78",
   "metadata": {},
   "outputs": [],
   "source": [
    "l = iter(l)"
   ]
  },
  {
   "cell_type": "code",
   "execution_count": 145,
   "id": "c5b2187d",
   "metadata": {},
   "outputs": [],
   "source": [
    "l = [3,4,5,6,76]"
   ]
  },
  {
   "cell_type": "code",
   "execution_count": 146,
   "id": "08a7558d",
   "metadata": {},
   "outputs": [
    {
     "data": {
      "text/plain": [
       "5"
      ]
     },
     "execution_count": 146,
     "metadata": {},
     "output_type": "execute_result"
    }
   ],
   "source": [
    "len(l)"
   ]
  },
  {
   "cell_type": "code",
   "execution_count": 147,
   "id": "de0525d9",
   "metadata": {},
   "outputs": [
    {
     "data": {
      "text/plain": [
       "[(1, 2), (4, 4), (9, 6)]"
      ]
     },
     "execution_count": 147,
     "metadata": {},
     "output_type": "execute_result"
    }
   ],
   "source": [
    "l1"
   ]
  },
  {
   "cell_type": "code",
   "execution_count": 148,
   "id": "2476a509",
   "metadata": {},
   "outputs": [],
   "source": [
    "l = [3,4,5,'t','t','t','t']\n",
    "l.remove(\"t\")"
   ]
  },
  {
   "cell_type": "code",
   "execution_count": 149,
   "id": "060bac9f",
   "metadata": {},
   "outputs": [
    {
     "data": {
      "text/plain": [
       "[3, 4, 5, 't', 't', 't']"
      ]
     },
     "execution_count": 149,
     "metadata": {},
     "output_type": "execute_result"
    }
   ],
   "source": [
    "l"
   ]
  },
  {
   "cell_type": "code",
   "execution_count": null,
   "id": "91712aa7",
   "metadata": {},
   "outputs": [],
   "source": []
  }
 ],
 "metadata": {
  "kernelspec": {
   "display_name": "Python 3 (ipykernel)",
   "language": "python",
   "name": "python3"
  },
  "language_info": {
   "codemirror_mode": {
    "name": "ipython",
    "version": 3
   },
   "file_extension": ".py",
   "mimetype": "text/x-python",
   "name": "python",
   "nbconvert_exporter": "python",
   "pygments_lexer": "ipython3",
   "version": "3.9.12"
  }
 },
 "nbformat": 4,
 "nbformat_minor": 5
}
