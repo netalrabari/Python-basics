{
 "cells": [
  {
   "cell_type": "code",
   "execution_count": 1,
   "id": "0977713b",
   "metadata": {},
   "outputs": [],
   "source": [
    "a = \"netal\""
   ]
  },
  {
   "cell_type": "code",
   "execution_count": 2,
   "id": "0d66c6d0",
   "metadata": {},
   "outputs": [
    {
     "name": "stdout",
     "output_type": "stream",
     "text": [
      "netal\n"
     ]
    }
   ],
   "source": [
    "print(a)"
   ]
  },
  {
   "cell_type": "code",
   "execution_count": 5,
   "id": "826e19bd",
   "metadata": {},
   "outputs": [
    {
     "data": {
      "text/plain": [
       "'e'"
      ]
     },
     "execution_count": 5,
     "metadata": {},
     "output_type": "execute_result"
    }
   ],
   "source": [
    "a[1]"
   ]
  },
  {
   "cell_type": "code",
   "execution_count": 6,
   "id": "9cd8fa3f",
   "metadata": {},
   "outputs": [
    {
     "data": {
      "text/plain": [
       "'neta'"
      ]
     },
     "execution_count": 6,
     "metadata": {},
     "output_type": "execute_result"
    }
   ],
   "source": [
    "a[0:4]"
   ]
  },
  {
   "cell_type": "code",
   "execution_count": 7,
   "id": "9bab8c6d",
   "metadata": {},
   "outputs": [
    {
     "data": {
      "text/plain": [
       "'netal'"
      ]
     },
     "execution_count": 7,
     "metadata": {},
     "output_type": "execute_result"
    }
   ],
   "source": [
    "a"
   ]
  },
  {
   "cell_type": "code",
   "execution_count": 8,
   "id": "84bf0015",
   "metadata": {},
   "outputs": [
    {
     "data": {
      "text/plain": [
       "'net'"
      ]
     },
     "execution_count": 8,
     "metadata": {},
     "output_type": "execute_result"
    }
   ],
   "source": [
    "a[0:-2]"
   ]
  },
  {
   "cell_type": "code",
   "execution_count": 9,
   "id": "18eca049",
   "metadata": {},
   "outputs": [
    {
     "data": {
      "text/plain": [
       "'netal'"
      ]
     },
     "execution_count": 9,
     "metadata": {},
     "output_type": "execute_result"
    }
   ],
   "source": [
    "a"
   ]
  },
  {
   "cell_type": "code",
   "execution_count": 10,
   "id": "2beec7fd",
   "metadata": {},
   "outputs": [
    {
     "data": {
      "text/plain": [
       "'laten'"
      ]
     },
     "execution_count": 10,
     "metadata": {},
     "output_type": "execute_result"
    }
   ],
   "source": [
    "a[::-1]"
   ]
  },
  {
   "cell_type": "code",
   "execution_count": 18,
   "id": "04918132",
   "metadata": {},
   "outputs": [
    {
     "name": "stdout",
     "output_type": "stream",
     "text": [
      "enter the value 6\n"
     ]
    }
   ],
   "source": [
    "a = int(input(\"enter the value \"))"
   ]
  },
  {
   "cell_type": "code",
   "execution_count": 19,
   "id": "bd72de50",
   "metadata": {},
   "outputs": [
    {
     "name": "stdout",
     "output_type": "stream",
     "text": [
      "6\n"
     ]
    }
   ],
   "source": [
    "if a < 7:\n",
    "    print(a)\n",
    "else:\n",
    "    print(\"nan\")"
   ]
  },
  {
   "cell_type": "code",
   "execution_count": 20,
   "id": "cb8182a9",
   "metadata": {},
   "outputs": [
    {
     "name": "stdout",
     "output_type": "stream",
     "text": [
      "my name is netal\n"
     ]
    }
   ],
   "source": [
    "if a < 15 :\n",
    "    print(\"my name is netal\")"
   ]
  },
  {
   "cell_type": "code",
   "execution_count": 22,
   "id": "5157f580",
   "metadata": {},
   "outputs": [],
   "source": [
    "if 24 < 15 :\n",
    "    print(\"my name is netal\")"
   ]
  },
  {
   "cell_type": "code",
   "execution_count": 23,
   "id": "3daff9f2",
   "metadata": {},
   "outputs": [
    {
     "data": {
      "text/plain": [
       "False"
      ]
     },
     "execution_count": 23,
     "metadata": {},
     "output_type": "execute_result"
    }
   ],
   "source": [
    "24 < 15"
   ]
  },
  {
   "cell_type": "code",
   "execution_count": 24,
   "id": "e55dae5c",
   "metadata": {},
   "outputs": [
    {
     "name": "stdout",
     "output_type": "stream",
     "text": [
      "if statemnt is wrong \n"
     ]
    }
   ],
   "source": [
    "if 11<10 :\n",
    "    print(\" 10 is lesser then 4 \")\n",
    "else :\n",
    "    print(\"if statemnt is wrong \")"
   ]
  },
  {
   "cell_type": "code",
   "execution_count": 26,
   "id": "60d7d381",
   "metadata": {},
   "outputs": [
    {
     "name": "stdout",
     "output_type": "stream",
     "text": [
      "42\n",
      "i will be able to rent a house \n"
     ]
    }
   ],
   "source": [
    "income = int(input())\n",
    "if income < 10:\n",
    "    print(\"i will be able to buy phone\")\n",
    "elif income < 40 :\n",
    "    print(\"i will be able to buy car \")\n",
    "elif  income < 100 :\n",
    "    print(\"i will be able to rent a house \")\n",
    "else :\n",
    "    print(\"i wont be able to buy anything\")"
   ]
  },
  {
   "cell_type": "code",
   "execution_count": 29,
   "id": "5dd68e33",
   "metadata": {},
   "outputs": [
    {
     "name": "stdout",
     "output_type": "stream",
     "text": [
      "60000\n",
      "Discount will be  18000.0\n"
     ]
    }
   ],
   "source": [
    "total_income = int(input())\n",
    "\n",
    "if total_income  > 50000 :\n",
    "    discount = total_income * .30\n",
    "    print(\"Discount will be \" , discount)\n",
    "elif total_income <= 4000 :\n",
    "    discount = total_income *.05\n",
    "    print(\"dicount will be \" , discount)\n",
    "else :\n",
    "    print( \"wont be able to give any discount \")\n"
   ]
  },
  {
   "cell_type": "code",
   "execution_count": 30,
   "id": "341a4fc9",
   "metadata": {},
   "outputs": [
    {
     "name": "stdout",
     "output_type": "stream",
     "text": [
      "5\n",
      " it will take 3 month of time for transition \n"
     ]
    }
   ],
   "source": [
    "study_hour = int(input())\n",
    "if study_hour < 1:\n",
    "    print(\"it may take  8- 9 month of time to make a transitino \")\n",
    "elif study_hour < 4 and  study_hour > 1:\n",
    "    print(\"it may take 6 month for transition\")\n",
    "elif study_hour < 10 :\n",
    "    print(\" it will take 3 month of time for transition \")\n",
    "else :\n",
    "    print(\"it will be difficult \")"
   ]
  },
  {
   "cell_type": "code",
   "execution_count": 31,
   "id": "0690801e",
   "metadata": {},
   "outputs": [
    {
     "name": "stdout",
     "output_type": "stream",
     "text": [
      "valid\n"
     ]
    }
   ],
   "source": [
    "a = 9 \n",
    "if a == 9 : \n",
    "    print(\"valid\")"
   ]
  },
  {
   "cell_type": "code",
   "execution_count": 32,
   "id": "7d1eb013",
   "metadata": {},
   "outputs": [
    {
     "name": "stdout",
     "output_type": "stream",
     "text": [
      "Enter the value of a :  6\n",
      "6 is a positive number\n"
     ]
    }
   ],
   "source": [
    "'''this programm for positive and negative of a input number'''\n",
    "a = int(input(\"Enter the value of a :  \"))\n",
    "if a > 0:\n",
    "    print(a, \"is a positive number\")\n",
    "elif a == 0:\n",
    "    print(a, \"is going to be zero\")\n",
    "else:\n",
    "    print(a, \" is a negative number\")"
   ]
  },
  {
   "cell_type": "code",
   "execution_count": 34,
   "id": "129c726f",
   "metadata": {},
   "outputs": [
    {
     "name": "stdout",
     "output_type": "stream",
     "text": [
      "Enter a number: .6\n",
      "Positive number\n"
     ]
    }
   ],
   "source": [
    "num = float(input(\"Enter a number: \"))\n",
    "if num >= 0:\n",
    "    if num == 0:\n",
    "        print(\"Zero\")\n",
    "    else:\n",
    "        print(\"Positive number\")\n",
    "else:\n",
    "    print(\"Negative number\")"
   ]
  },
  {
   "cell_type": "code",
   "execution_count": 35,
   "id": "c7eda9de",
   "metadata": {},
   "outputs": [],
   "source": [
    "a = .6"
   ]
  },
  {
   "cell_type": "code",
   "execution_count": 36,
   "id": "98a9132f",
   "metadata": {},
   "outputs": [
    {
     "data": {
      "text/plain": [
       "float"
      ]
     },
     "execution_count": 36,
     "metadata": {},
     "output_type": "execute_result"
    }
   ],
   "source": [
    "type(a)"
   ]
  },
  {
   "cell_type": "code",
   "execution_count": 37,
   "id": "039222ac",
   "metadata": {},
   "outputs": [],
   "source": [
    "a = 3"
   ]
  },
  {
   "cell_type": "code",
   "execution_count": 38,
   "id": "a12b7789",
   "metadata": {},
   "outputs": [
    {
     "name": "stdout",
     "output_type": "stream",
     "text": [
      "3\n"
     ]
    }
   ],
   "source": [
    "print(a)"
   ]
  },
  {
   "cell_type": "code",
   "execution_count": 39,
   "id": "dc122134",
   "metadata": {},
   "outputs": [
    {
     "data": {
      "text/plain": [
       "int"
      ]
     },
     "execution_count": 39,
     "metadata": {},
     "output_type": "execute_result"
    }
   ],
   "source": [
    "type(3)"
   ]
  },
  {
   "cell_type": "code",
   "execution_count": 40,
   "id": "40d6bd69",
   "metadata": {},
   "outputs": [],
   "source": [
    "g=4+4j"
   ]
  },
  {
   "cell_type": "code",
   "execution_count": 41,
   "id": "570b24f1",
   "metadata": {},
   "outputs": [
    {
     "data": {
      "text/plain": [
       "complex"
      ]
     },
     "execution_count": 41,
     "metadata": {},
     "output_type": "execute_result"
    }
   ],
   "source": [
    "type(g)"
   ]
  },
  {
   "cell_type": "code",
   "execution_count": 42,
   "id": "5ba5040a",
   "metadata": {},
   "outputs": [],
   "source": [
    "s = \"manav\""
   ]
  },
  {
   "cell_type": "code",
   "execution_count": 43,
   "id": "f7d9678e",
   "metadata": {},
   "outputs": [
    {
     "data": {
      "text/plain": [
       "str"
      ]
     },
     "execution_count": 43,
     "metadata": {},
     "output_type": "execute_result"
    }
   ],
   "source": [
    "type(s)"
   ]
  },
  {
   "cell_type": "code",
   "execution_count": null,
   "id": "d71a215d",
   "metadata": {},
   "outputs": [],
   "source": []
  }
 ],
 "metadata": {
  "kernelspec": {
   "display_name": "Python 3 (ipykernel)",
   "language": "python",
   "name": "python3"
  },
  "language_info": {
   "codemirror_mode": {
    "name": "ipython",
    "version": 3
   },
   "file_extension": ".py",
   "mimetype": "text/x-python",
   "name": "python",
   "nbconvert_exporter": "python",
   "pygments_lexer": "ipython3",
   "version": "3.9.12"
  }
 },
 "nbformat": 4,
 "nbformat_minor": 5
}
