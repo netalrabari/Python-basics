{
 "cells": [
  {
   "cell_type": "markdown",
   "id": "3b0a5200",
   "metadata": {},
   "source": [
    "# List, Tuple, Dictionary, Sets"
   ]
  },
  {
   "cell_type": "code",
   "execution_count": 1,
   "id": "08443e04",
   "metadata": {},
   "outputs": [],
   "source": [
    "l = [1,2,3,4,5]"
   ]
  },
  {
   "cell_type": "code",
   "execution_count": 2,
   "id": "fd42a3a0",
   "metadata": {},
   "outputs": [
    {
     "name": "stdout",
     "output_type": "stream",
     "text": [
      "[1, 2, 3, 4, 5]\n"
     ]
    }
   ],
   "source": [
    "print(l)"
   ]
  },
  {
   "cell_type": "code",
   "execution_count": 3,
   "id": "cc1b2f1a",
   "metadata": {},
   "outputs": [
    {
     "data": {
      "text/plain": [
       "[1, 2, 3, 4, 5]"
      ]
     },
     "execution_count": 3,
     "metadata": {},
     "output_type": "execute_result"
    }
   ],
   "source": [
    "l"
   ]
  },
  {
   "cell_type": "code",
   "execution_count": 4,
   "id": "914f191b",
   "metadata": {},
   "outputs": [
    {
     "data": {
      "text/plain": [
       "list"
      ]
     },
     "execution_count": 4,
     "metadata": {},
     "output_type": "execute_result"
    }
   ],
   "source": [
    "type(l)"
   ]
  },
  {
   "cell_type": "code",
   "execution_count": 5,
   "id": "477c8dbe",
   "metadata": {},
   "outputs": [
    {
     "data": {
      "text/plain": [
       "1"
      ]
     },
     "execution_count": 5,
     "metadata": {},
     "output_type": "execute_result"
    }
   ],
   "source": [
    "l[0]"
   ]
  },
  {
   "cell_type": "code",
   "execution_count": 6,
   "id": "d8c55bfe",
   "metadata": {},
   "outputs": [
    {
     "data": {
      "text/plain": [
       "3"
      ]
     },
     "execution_count": 6,
     "metadata": {},
     "output_type": "execute_result"
    }
   ],
   "source": [
    "l[2]"
   ]
  },
  {
   "cell_type": "code",
   "execution_count": 7,
   "id": "ee14167e",
   "metadata": {},
   "outputs": [
    {
     "data": {
      "text/plain": [
       "5"
      ]
     },
     "execution_count": 7,
     "metadata": {},
     "output_type": "execute_result"
    }
   ],
   "source": [
    "l[-1]"
   ]
  },
  {
   "cell_type": "code",
   "execution_count": 8,
   "id": "6fe0f534",
   "metadata": {},
   "outputs": [
    {
     "data": {
      "text/plain": [
       "[5, 4, 3, 2, 1]"
      ]
     },
     "execution_count": 8,
     "metadata": {},
     "output_type": "execute_result"
    }
   ],
   "source": [
    "l[::-1]"
   ]
  },
  {
   "cell_type": "code",
   "execution_count": 9,
   "id": "eda04ee1",
   "metadata": {},
   "outputs": [
    {
     "data": {
      "text/plain": [
       "[1, 2, 3, 4, 5]"
      ]
     },
     "execution_count": 9,
     "metadata": {},
     "output_type": "execute_result"
    }
   ],
   "source": [
    "l"
   ]
  },
  {
   "cell_type": "code",
   "execution_count": 10,
   "id": "2a37b473",
   "metadata": {},
   "outputs": [
    {
     "data": {
      "text/plain": [
       "[1, 3]"
      ]
     },
     "execution_count": 10,
     "metadata": {},
     "output_type": "execute_result"
    }
   ],
   "source": [
    "l[0:4:2]"
   ]
  },
  {
   "cell_type": "code",
   "execution_count": 11,
   "id": "af0d883a",
   "metadata": {},
   "outputs": [],
   "source": [
    "l1 = [4,5,6,\"hjj\",\"jij\",9+6j, 8,[4,5,6,\"hg\",\"hujh\",9]]"
   ]
  },
  {
   "cell_type": "code",
   "execution_count": 12,
   "id": "2963793f",
   "metadata": {},
   "outputs": [
    {
     "data": {
      "text/plain": [
       "5"
      ]
     },
     "execution_count": 12,
     "metadata": {},
     "output_type": "execute_result"
    }
   ],
   "source": [
    "l1[7][1]"
   ]
  },
  {
   "cell_type": "code",
   "execution_count": 13,
   "id": "f7c8b933",
   "metadata": {},
   "outputs": [
    {
     "data": {
      "text/plain": [
       "(9+6j)"
      ]
     },
     "execution_count": 13,
     "metadata": {},
     "output_type": "execute_result"
    }
   ],
   "source": [
    "c = 9+6j\n",
    "c"
   ]
  },
  {
   "cell_type": "code",
   "execution_count": 14,
   "id": "b4c588f9",
   "metadata": {},
   "outputs": [
    {
     "data": {
      "text/plain": [
       "complex"
      ]
     },
     "execution_count": 14,
     "metadata": {},
     "output_type": "execute_result"
    }
   ],
   "source": [
    "type(c)"
   ]
  },
  {
   "cell_type": "code",
   "execution_count": 15,
   "id": "193bdd26",
   "metadata": {},
   "outputs": [
    {
     "data": {
      "text/plain": [
       "'jij'"
      ]
     },
     "execution_count": 15,
     "metadata": {},
     "output_type": "execute_result"
    }
   ],
   "source": [
    "l1[4]"
   ]
  },
  {
   "cell_type": "code",
   "execution_count": 16,
   "id": "ed6b11c1",
   "metadata": {},
   "outputs": [
    {
     "data": {
      "text/plain": [
       "'hg'"
      ]
     },
     "execution_count": 16,
     "metadata": {},
     "output_type": "execute_result"
    }
   ],
   "source": [
    "l1[7][3]"
   ]
  },
  {
   "cell_type": "code",
   "execution_count": 17,
   "id": "d1be38eb",
   "metadata": {},
   "outputs": [
    {
     "data": {
      "text/plain": [
       "[4, 5, 6, 'hjj', 'jij', (9+6j), 8]"
      ]
     },
     "execution_count": 17,
     "metadata": {},
     "output_type": "execute_result"
    }
   ],
   "source": [
    "l1[0:7:1]"
   ]
  },
  {
   "cell_type": "code",
   "execution_count": 18,
   "id": "1e1dad5d",
   "metadata": {},
   "outputs": [],
   "source": [
    "list2 = [\"kb\",\"jn\",\"jnuk\",[4,5,6,\"hnun\",\"nkj\"],[\"ahj\",\"klhk\",5,6,[7,8]]]"
   ]
  },
  {
   "cell_type": "code",
   "execution_count": 19,
   "id": "bdea3028",
   "metadata": {},
   "outputs": [
    {
     "data": {
      "text/plain": [
       "['kb', 'jn', 'jnuk', [4, 5, 6, 'hnun', 'nkj'], ['ahj', 'klhk', 5, 6, [7, 8]]]"
      ]
     },
     "execution_count": 19,
     "metadata": {},
     "output_type": "execute_result"
    }
   ],
   "source": [
    "list2"
   ]
  },
  {
   "cell_type": "code",
   "execution_count": 20,
   "id": "38c7fcb5",
   "metadata": {},
   "outputs": [
    {
     "data": {
      "text/plain": [
       "7"
      ]
     },
     "execution_count": 20,
     "metadata": {},
     "output_type": "execute_result"
    }
   ],
   "source": [
    "list2[4][4][0]"
   ]
  },
  {
   "cell_type": "code",
   "execution_count": 21,
   "id": "fd875cb0",
   "metadata": {},
   "outputs": [
    {
     "data": {
      "text/plain": [
       "['ahj', 'klhk', 5, 6, [7, 8]]"
      ]
     },
     "execution_count": 21,
     "metadata": {},
     "output_type": "execute_result"
    }
   ],
   "source": [
    "list2[4]"
   ]
  },
  {
   "cell_type": "code",
   "execution_count": 22,
   "id": "c20f85df",
   "metadata": {},
   "outputs": [
    {
     "data": {
      "text/plain": [
       "[7, 8]"
      ]
     },
     "execution_count": 22,
     "metadata": {},
     "output_type": "execute_result"
    }
   ],
   "source": [
    "list2[4][4]"
   ]
  },
  {
   "cell_type": "code",
   "execution_count": 23,
   "id": "419456b7",
   "metadata": {},
   "outputs": [],
   "source": [
    "list3 = range(0,30)"
   ]
  },
  {
   "cell_type": "code",
   "execution_count": 24,
   "id": "100b67f3",
   "metadata": {},
   "outputs": [
    {
     "data": {
      "text/plain": [
       "range"
      ]
     },
     "execution_count": 24,
     "metadata": {},
     "output_type": "execute_result"
    }
   ],
   "source": [
    "type(list3)"
   ]
  },
  {
   "cell_type": "code",
   "execution_count": 25,
   "id": "da3b61b5",
   "metadata": {},
   "outputs": [
    {
     "data": {
      "text/plain": [
       "[4, 5, 6, 'hjj', 'jij', (9+6j), 8, [4, 5, 6, 'hg', 'hujh', 9]]"
      ]
     },
     "execution_count": 25,
     "metadata": {},
     "output_type": "execute_result"
    }
   ],
   "source": [
    "l1"
   ]
  },
  {
   "cell_type": "code",
   "execution_count": 26,
   "id": "6b44e651",
   "metadata": {},
   "outputs": [],
   "source": [
    "l2 = [4,5,6,\"netal\"]"
   ]
  },
  {
   "cell_type": "code",
   "execution_count": 27,
   "id": "8df5a775",
   "metadata": {},
   "outputs": [
    {
     "name": "stdout",
     "output_type": "stream",
     "text": [
      "[4, 5, 6, 'netal']\n"
     ]
    }
   ],
   "source": [
    "print(l2)"
   ]
  },
  {
   "cell_type": "code",
   "execution_count": 28,
   "id": "72c00b5d",
   "metadata": {},
   "outputs": [
    {
     "data": {
      "text/plain": [
       "'netal'"
      ]
     },
     "execution_count": 28,
     "metadata": {},
     "output_type": "execute_result"
    }
   ],
   "source": [
    "l2[3]"
   ]
  },
  {
   "cell_type": "code",
   "execution_count": 29,
   "id": "26064982",
   "metadata": {},
   "outputs": [],
   "source": [
    "l2[3] = \"rabari\""
   ]
  },
  {
   "cell_type": "code",
   "execution_count": 30,
   "id": "90cebd68",
   "metadata": {},
   "outputs": [
    {
     "data": {
      "text/plain": [
       "[4, 5, 6, 'rabari']"
      ]
     },
     "execution_count": 30,
     "metadata": {},
     "output_type": "execute_result"
    }
   ],
   "source": [
    "l2"
   ]
  },
  {
   "cell_type": "code",
   "execution_count": 31,
   "id": "92851443",
   "metadata": {},
   "outputs": [],
   "source": [
    "l2[0]=9"
   ]
  },
  {
   "cell_type": "code",
   "execution_count": 32,
   "id": "50391e28",
   "metadata": {},
   "outputs": [
    {
     "data": {
      "text/plain": [
       "[9, 5, 6, 'rabari']"
      ]
     },
     "execution_count": 32,
     "metadata": {},
     "output_type": "execute_result"
    }
   ],
   "source": [
    "l2"
   ]
  },
  {
   "cell_type": "markdown",
   "id": "9e328f03",
   "metadata": {},
   "source": [
    "# sets"
   ]
  },
  {
   "cell_type": "code",
   "execution_count": 33,
   "id": "e074eaa5",
   "metadata": {},
   "outputs": [
    {
     "data": {
      "text/plain": [
       "{1, 2, 3, 4, 5, 9, 'gh'}"
      ]
     },
     "execution_count": 33,
     "metadata": {},
     "output_type": "execute_result"
    }
   ],
   "source": [
    "set1 = {1,2,3,4,5,9,\"gh\"}\n",
    "set1"
   ]
  },
  {
   "cell_type": "code",
   "execution_count": 34,
   "id": "cb0ffcb2",
   "metadata": {},
   "outputs": [
    {
     "data": {
      "text/plain": [
       "{1, 2, 3, 4, 5, 9, 'gh'}"
      ]
     },
     "execution_count": 34,
     "metadata": {},
     "output_type": "execute_result"
    }
   ],
   "source": [
    "set1"
   ]
  },
  {
   "cell_type": "code",
   "execution_count": 37,
   "id": "e4707a10",
   "metadata": {},
   "outputs": [],
   "source": [
    "set2 = {5,6,7}"
   ]
  },
  {
   "cell_type": "code",
   "execution_count": 38,
   "id": "edd8b116",
   "metadata": {},
   "outputs": [
    {
     "data": {
      "text/plain": [
       "{5, 6, 7}"
      ]
     },
     "execution_count": 38,
     "metadata": {},
     "output_type": "execute_result"
    }
   ],
   "source": [
    "set2"
   ]
  },
  {
   "cell_type": "code",
   "execution_count": 42,
   "id": "41b61c0a",
   "metadata": {},
   "outputs": [],
   "source": [
    "set2 = 7"
   ]
  },
  {
   "cell_type": "code",
   "execution_count": 43,
   "id": "ce7bfde3",
   "metadata": {},
   "outputs": [
    {
     "data": {
      "text/plain": [
       "7"
      ]
     },
     "execution_count": 43,
     "metadata": {},
     "output_type": "execute_result"
    }
   ],
   "source": [
    "set2"
   ]
  },
  {
   "cell_type": "markdown",
   "id": "807b3a9a",
   "metadata": {},
   "source": [
    "#  Tuple"
   ]
  },
  {
   "cell_type": "code",
   "execution_count": 44,
   "id": "e1494ada",
   "metadata": {},
   "outputs": [],
   "source": [
    "t = (2,3,4,{4,5},9,[5,6,7],\"rni\",\"gh\",{5,6,\"mk\"})"
   ]
  },
  {
   "cell_type": "code",
   "execution_count": 45,
   "id": "63bc691b",
   "metadata": {},
   "outputs": [
    {
     "data": {
      "text/plain": [
       "9"
      ]
     },
     "execution_count": 45,
     "metadata": {},
     "output_type": "execute_result"
    }
   ],
   "source": [
    "len(t)"
   ]
  },
  {
   "cell_type": "code",
   "execution_count": 46,
   "id": "3452be16",
   "metadata": {},
   "outputs": [],
   "source": [
    "t1 = [1,2]"
   ]
  },
  {
   "cell_type": "code",
   "execution_count": 47,
   "id": "0a7f6c01",
   "metadata": {},
   "outputs": [
    {
     "data": {
      "text/plain": [
       "2"
      ]
     },
     "execution_count": 47,
     "metadata": {},
     "output_type": "execute_result"
    }
   ],
   "source": [
    "len(t1)"
   ]
  },
  {
   "cell_type": "code",
   "execution_count": 48,
   "id": "953f8c15",
   "metadata": {},
   "outputs": [
    {
     "data": {
      "text/plain": [
       "{4, 5}"
      ]
     },
     "execution_count": 48,
     "metadata": {},
     "output_type": "execute_result"
    }
   ],
   "source": [
    "t[3]"
   ]
  },
  {
   "cell_type": "markdown",
   "id": "5c7e4e86",
   "metadata": {},
   "source": [
    "# Dictionary"
   ]
  },
  {
   "cell_type": "code",
   "execution_count": 1,
   "id": "8b68bc68",
   "metadata": {},
   "outputs": [],
   "source": [
    "dict1 = {1:\"netal\",\"B\":\"ankur\",3:\"mehul\",4:\"pinakin\",\"c\":\"jiya\"}"
   ]
  },
  {
   "cell_type": "code",
   "execution_count": 2,
   "id": "6b391a3c",
   "metadata": {},
   "outputs": [
    {
     "data": {
      "text/plain": [
       "{1: 'netal', 'B': 'ankur', 3: 'mehul', 4: 'pinakin', 'c': 'jiya'}"
      ]
     },
     "execution_count": 2,
     "metadata": {},
     "output_type": "execute_result"
    }
   ],
   "source": [
    "dict1"
   ]
  },
  {
   "cell_type": "code",
   "execution_count": 3,
   "id": "3eabc5e8",
   "metadata": {},
   "outputs": [
    {
     "data": {
      "text/plain": [
       "'ankur'"
      ]
     },
     "execution_count": 3,
     "metadata": {},
     "output_type": "execute_result"
    }
   ],
   "source": [
    "dict1['B']"
   ]
  },
  {
   "cell_type": "code",
   "execution_count": 4,
   "id": "ec92b5c3",
   "metadata": {},
   "outputs": [],
   "source": [
    "dict2 = {1:\"netal\",\"B\":\"ankur\",3:\"mehul\",4:\"pinakin\",\"c\":\"jiya\", 5:[3,4,5], 6:{\"n\",1,23},\n",
    "        7:{'n':\"hj\",'h':\"n\",1:\"y\",2:\"x\",3:[4,5]}}"
   ]
  },
  {
   "cell_type": "code",
   "execution_count": 5,
   "id": "f010d573",
   "metadata": {},
   "outputs": [
    {
     "data": {
      "text/plain": [
       "{1: 'netal',\n",
       " 'B': 'ankur',\n",
       " 3: 'mehul',\n",
       " 4: 'pinakin',\n",
       " 'c': 'jiya',\n",
       " 5: [3, 4, 5],\n",
       " 6: {1, 23, 'n'},\n",
       " 7: {'n': 'hj', 'h': 'n', 1: 'y', 2: 'x', 3: [4, 5]}}"
      ]
     },
     "execution_count": 5,
     "metadata": {},
     "output_type": "execute_result"
    }
   ],
   "source": [
    "dict2"
   ]
  },
  {
   "cell_type": "code",
   "execution_count": 6,
   "id": "302cce36",
   "metadata": {},
   "outputs": [
    {
     "data": {
      "text/plain": [
       "3"
      ]
     },
     "execution_count": 6,
     "metadata": {},
     "output_type": "execute_result"
    }
   ],
   "source": [
    "dict2[5][0]"
   ]
  },
  {
   "cell_type": "code",
   "execution_count": 8,
   "id": "45dee697",
   "metadata": {},
   "outputs": [
    {
     "data": {
      "text/plain": [
       "'hj'"
      ]
     },
     "execution_count": 8,
     "metadata": {},
     "output_type": "execute_result"
    }
   ],
   "source": [
    "dict2[7][\"n\"]"
   ]
  },
  {
   "cell_type": "code",
   "execution_count": 9,
   "id": "c2480b2c",
   "metadata": {},
   "outputs": [
    {
     "data": {
      "text/plain": [
       "4"
      ]
     },
     "execution_count": 9,
     "metadata": {},
     "output_type": "execute_result"
    }
   ],
   "source": [
    "dict2[7][3][0]"
   ]
  },
  {
   "cell_type": "code",
   "execution_count": 10,
   "id": "e0066ae0",
   "metadata": {},
   "outputs": [],
   "source": [
    "thisdict = {\n",
    "  \"brand\": \"Ford\",\n",
    "  \"model\": \"Mustang\",\n",
    "  \"year\": 1980\n",
    "}"
   ]
  },
  {
   "cell_type": "code",
   "execution_count": 11,
   "id": "16c8afd0",
   "metadata": {},
   "outputs": [],
   "source": [
    "x = {\n",
    "  \"name\": \"ankur\",\n",
    "  \"age\": 29,\n",
    "  \"married\": True,\n",
    "  \"divorced\": False,\n",
    "  \"children\": (\"zeel\",\"jisa\"),\n",
    "  \"pets\": None,\n",
    "  \"cars\": [\n",
    "    {\"model\": \"BMW 230\", \"mpg\": 25.5},\n",
    "    {\"model\": \"Ford Edge\", \"mpg\": 22.1}\n",
    "  ]\n",
    "}"
   ]
  },
  {
   "cell_type": "code",
   "execution_count": 12,
   "id": "2f19e72a",
   "metadata": {},
   "outputs": [
    {
     "data": {
      "text/plain": [
       "{'name': 'ankur',\n",
       " 'age': 29,\n",
       " 'married': True,\n",
       " 'divorced': False,\n",
       " 'children': ('zeel', 'jisa'),\n",
       " 'pets': None,\n",
       " 'cars': [{'model': 'BMW 230', 'mpg': 25.5},\n",
       "  {'model': 'Ford Edge', 'mpg': 22.1}]}"
      ]
     },
     "execution_count": 12,
     "metadata": {},
     "output_type": "execute_result"
    }
   ],
   "source": [
    "x"
   ]
  },
  {
   "cell_type": "code",
   "execution_count": 13,
   "id": "31bd89d6",
   "metadata": {},
   "outputs": [
    {
     "data": {
      "text/plain": [
       "[{'model': 'BMW 230', 'mpg': 25.5}, {'model': 'Ford Edge', 'mpg': 22.1}]"
      ]
     },
     "execution_count": 13,
     "metadata": {},
     "output_type": "execute_result"
    }
   ],
   "source": [
    "x[\"cars\"]"
   ]
  },
  {
   "cell_type": "code",
   "execution_count": 14,
   "id": "c83746fb",
   "metadata": {},
   "outputs": [
    {
     "data": {
      "text/plain": [
       "{'model': 'BMW 230', 'mpg': 25.5}"
      ]
     },
     "execution_count": 14,
     "metadata": {},
     "output_type": "execute_result"
    }
   ],
   "source": [
    "x[\"cars\"][0]"
   ]
  },
  {
   "cell_type": "code",
   "execution_count": 15,
   "id": "12ec230e",
   "metadata": {},
   "outputs": [
    {
     "data": {
      "text/plain": [
       "22.1"
      ]
     },
     "execution_count": 15,
     "metadata": {},
     "output_type": "execute_result"
    }
   ],
   "source": [
    "x[\"cars\"][1][\"mpg\"]"
   ]
  },
  {
   "cell_type": "code",
   "execution_count": null,
   "id": "61e29d9e",
   "metadata": {},
   "outputs": [],
   "source": []
  }
 ],
 "metadata": {
  "kernelspec": {
   "display_name": "Python 3 (ipykernel)",
   "language": "python",
   "name": "python3"
  },
  "language_info": {
   "codemirror_mode": {
    "name": "ipython",
    "version": 3
   },
   "file_extension": ".py",
   "mimetype": "text/x-python",
   "name": "python",
   "nbconvert_exporter": "python",
   "pygments_lexer": "ipython3",
   "version": "3.9.12"
  }
 },
 "nbformat": 4,
 "nbformat_minor": 5
}
